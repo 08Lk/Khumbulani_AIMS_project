{
 "cells": [
  {
   "cell_type": "code",
   "execution_count": null,
   "id": "about-vietnam",
   "metadata": {},
   "outputs": [],
   "source": []
  },
  {
   "cell_type": "code",
   "execution_count": 1,
   "id": "fresh-soldier",
   "metadata": {},
   "outputs": [],
   "source": [
    "import numpy as np\n",
    "import matplotlib.pyplot as plt"
   ]
  },
  {
   "cell_type": "code",
   "execution_count": 2,
   "id": "prerequisite-cleaners",
   "metadata": {},
   "outputs": [],
   "source": [
    "def flat_a(t):\n",
    "    return a0*(t/t0)**(2/3)"
   ]
  },
  {
   "cell_type": "code",
   "execution_count": 3,
   "id": "reserved-counter",
   "metadata": {},
   "outputs": [],
   "source": [
    "def closed_a(t):\n",
    "    return "
   ]
  },
  {
   "cell_type": "code",
   "execution_count": 4,
   "id": "infectious-munich",
   "metadata": {},
   "outputs": [],
   "source": [
    "def open_a(t):\n",
    "    return"
   ]
  },
  {
   "cell_type": "code",
   "execution_count": null,
   "id": "greek-wedding",
   "metadata": {},
   "outputs": [],
   "source": []
  },
  {
   "cell_type": "code",
   "execution_count": null,
   "id": "running-proof",
   "metadata": {},
   "outputs": [],
   "source": []
  },
  {
   "cell_type": "code",
   "execution_count": 5,
   "id": "technological-karaoke",
   "metadata": {},
   "outputs": [
    {
     "data": {
      "image/png": "[encoded data removed]",
      "text/plain": [
       "<Figure size 432x288 with 1 Axes>"
      ]
     },
     "metadata": {
      "needs_background": "light"
     },
     "output_type": "display_data"
    }
   ],
   "source": [
    "t1 = np.arange(0, 1000.0, 0.01)\n",
    "t0 = 9.187\n",
    "a0 = 1\n",
    "\n",
    "plt.figure()\n",
    "plt.title('Scale factor')\n",
    "\n",
    "\n",
    "plt.xlabel('time t')\n",
    "plt.ylabel('scale factor a(t)')\n",
    "\n",
    "\n",
    "plt.plot(t1, flat_a(t1), 'b')\n",
    "\n",
    "\n",
    "plt.xlim(-1.5,30.0)\n",
    "plt.ylim(-1.0,10.0)\n",
    "\n",
    "\n",
    "\n",
    "plt.legend(['flat'])\n",
    "plt.show()"
   ]
  },
  {
   "cell_type": "code",
   "execution_count": null,
   "id": "floral-performer",
   "metadata": {},
   "outputs": [],
   "source": []
  },
  {
   "cell_type": "code",
   "execution_count": null,
   "id": "massive-sharing",
   "metadata": {},
   "outputs": [],
   "source": []
  },
  {
   "cell_type": "code",
   "execution_count": null,
   "id": "norman-valentine",
   "metadata": {},
   "outputs": [],
   "source": []
  },
  {
   "cell_type": "code",
   "execution_count": null,
   "id": "fleet-trade",
   "metadata": {},
   "outputs": [],
   "source": []
  },
  {
   "cell_type": "code",
   "execution_count": null,
   "id": "dietary-conference",
   "metadata": {},
   "outputs": [],
   "source": []
  },
  {
   "cell_type": "code",
   "execution_count": null,
   "id": "communist-imagination",
   "metadata": {},
   "outputs": [],
   "source": []
  },
  {
   "cell_type": "code",
   "execution_count": null,
   "id": "infrared-packaging",
   "metadata": {},
   "outputs": [],
   "source": []
  },
  {
   "cell_type": "markdown",
   "id": "demographic-employer",
   "metadata": {},
   "source": [
    "# plot for Hubble parameter H(z) vs redshift z"
   ]
  },
  {
   "cell_type": "code",
   "execution_count": 6,
   "id": "early-explosion",
   "metadata": {},
   "outputs": [],
   "source": [
    "# H(z) plot for Dp_k positive\n",
    "\n",
    "def h(z):\n",
    "    return (Dp_ro*(1+z)**4 + Dp_mo*(1+z)**3 + Dp_deo + Dp_k*(1 + z)**2)**0.5"
   ]
  },
  {
   "cell_type": "code",
   "execution_count": null,
   "id": "digital-attribute",
   "metadata": {},
   "outputs": [],
   "source": []
  },
  {
   "cell_type": "code",
   "execution_count": 7,
   "id": "muslim-romance",
   "metadata": {},
   "outputs": [],
   "source": [
    "# H(z) plot for Dp_k negative\n",
    "\n",
    "def h1(z):\n",
    "    return (Dp_ro*(1+z)**4 + Dp_mo*(1+z)**3 + Dp_deo - Dp_k*(1 + z)**2)**0.5"
   ]
  },
  {
   "cell_type": "code",
   "execution_count": 8,
   "id": "adequate-study",
   "metadata": {},
   "outputs": [],
   "source": [
    "z1 = np.arange(0,1000, 0.01)\n"
   ]
  },
  {
   "cell_type": "code",
   "execution_count": 9,
   "id": "clear-pillow",
   "metadata": {},
   "outputs": [
    {
     "name": "stdout",
     "output_type": "stream",
     "text": [
      "0.008951000000000042\n"
     ]
    }
   ],
   "source": [
    "Dp_mo = 0.307\n",
    "\n",
    "Dp_deo = 0.684\n",
    "Dp_ro = 4.9*10**(-5)\n",
    "Dp_k = 1 - Dp_ro - Dp_mo - Dp_deo\n",
    "print(Dp_k)"
   ]
  },
  {
   "cell_type": "markdown",
   "id": "emerging-lodge",
   "metadata": {},
   "source": [
    "# plot for h(z) vs z"
   ]
  },
  {
   "cell_type": "code",
   "execution_count": 10,
   "id": "organized-smell",
   "metadata": {},
   "outputs": [
    {
     "data": {
      "image/png": "[encoded data removed]",
      "text/plain": [
       "<Figure size 432x288 with 1 Axes>"
      ]
     },
     "metadata": {
      "needs_background": "light"
     },
     "output_type": "display_data"
    }
   ],
   "source": [
    "plt.figure()\n",
    "\n",
    "plt.title('Hubble parameter h(z) vs redshift(z)')\n",
    "\n",
    "plt.xlabel('redshift z')\n",
    "plt.ylabel('hubble parameter h(z)')\n",
    "\n",
    "\n",
    "\n",
    "plt.grid(True)\n",
    "plt.plot(z1, h(z1), 'r--')\n",
    "\n",
    "plt.legend(['h(z)'])\n",
    "plt.show()\n"
   ]
  },
  {
   "cell_type": "markdown",
   "id": "burning-frequency",
   "metadata": {},
   "source": [
    "end"
   ]
  },
  {
   "cell_type": "code",
   "execution_count": null,
   "id": "similar-chamber",
   "metadata": {},
   "outputs": [],
   "source": []
  },
  {
   "cell_type": "code",
   "execution_count": null,
   "id": "cardiac-nickname",
   "metadata": {},
   "outputs": [],
   "source": []
  },
  {
   "cell_type": "markdown",
   "id": "accredited-wrist",
   "metadata": {},
   "source": [
    "## Plot for Deceleration parameter q(z) vs redshift z"
   ]
  },
  {
   "cell_type": "code",
   "execution_count": 11,
   "id": "forced-official",
   "metadata": {},
   "outputs": [],
   "source": [
    "# q(z) plot "
   ]
  },
  {
   "cell_type": "code",
   "execution_count": 12,
   "id": "nonprofit-behavior",
   "metadata": {},
   "outputs": [],
   "source": [
    "def q(z):\n",
    "    return 0.5*(1/h1(z))**2 *(Dp_mo*(1+z)**3 + 2*Dp_ro*(1+z)**4 - 2*Dp_deo )"
   ]
  },
  {
   "cell_type": "code",
   "execution_count": 13,
   "id": "inclusive-russian",
   "metadata": {},
   "outputs": [],
   "source": [
    "z2 = np.arange(0 , 10, 0.01)"
   ]
  },
  {
   "cell_type": "code",
   "execution_count": 14,
   "id": "heard-forum",
   "metadata": {},
   "outputs": [
    {
     "name": "stdout",
     "output_type": "stream",
     "text": [
      "[0.   0.64] [nan  0.]\n"
     ]
    },
    {
     "name": "stderr",
     "output_type": "stream",
     "text": [
      "<ipython-input-14-255cda1bd0c3>:12: RuntimeWarning: invalid value encountered in true_divide\n",
      "  plt.plot(z2, q(z2), 'b--', z2, 0/z2,'r')\n",
      "<ipython-input-14-255cda1bd0c3>:16: RuntimeWarning: invalid value encountered in true_divide\n",
      "  idx = np.argwhere(np.diff(np.sign(q(z2) - 0/z2))).flatten()\n",
      "<ipython-input-14-255cda1bd0c3>:17: RuntimeWarning: invalid value encountered in true_divide\n",
      "  plt.plot(z2[idx], (0/z2)[idx], 'ko')\n",
      "<ipython-input-14-255cda1bd0c3>:18: RuntimeWarning: invalid value encountered in true_divide\n",
      "  print(z2[idx],(0/z2)[idx])\n"
     ]
    },
    {
     "data": {
      "image/png": "[encoded data removed]",
      "text/plain": [
       "<Figure size 432x288 with 1 Axes>"
      ]
     },
     "metadata": {
      "needs_background": "light"
     },
     "output_type": "display_data"
    }
   ],
   "source": [
    "plt.figure()\n",
    "\n",
    "plt.title('Deceleration parameterq(z) vs redshift(z)')\n",
    "\n",
    "plt.xlabel('redshift z')\n",
    "plt.ylabel('Deceleration parameter q(z)')\n",
    "plt.grid(True)\n",
    "\n",
    "\n",
    "\n",
    "\n",
    "plt.plot(z2, q(z2), 'b--', z2, 0/z2,'r')\n",
    "\n",
    "# plotting x crossing\n",
    "\n",
    "idx = np.argwhere(np.diff(np.sign(q(z2) - 0/z2))).flatten()\n",
    "plt.plot(z2[idx], (0/z2)[idx], 'ko')\n",
    "print(z2[idx],(0/z2)[idx])\n",
    "\n",
    "\n",
    "plt.legend(['q(z)','(z , q(z))=(0.645 , 0)','z-intercept'])\n",
    "plt.show()"
   ]
  },
  {
   "cell_type": "code",
   "execution_count": 15,
   "id": "chinese-shore",
   "metadata": {},
   "outputs": [
    {
     "data": {
      "text/plain": [
       "array([-0.54012023, -0.53045388, -0.52077486, -0.51108698, -0.50139399,\n",
       "       -0.49169957, -0.48200731, -0.47232077, -0.46264341, -0.4529786 ,\n",
       "       -0.44332967, -0.43369982, -0.42409221, -0.41450989, -0.40495582,\n",
       "       -0.39543288, -0.38594385, -0.37649144, -0.36707824, -0.35770676,\n",
       "       -0.34837942, -0.33909855, -0.32986638, -0.32068504, -0.3115566 ,\n",
       "       -0.30248299, -0.2934661 , -0.28450768, -0.27560944, -0.26677296,\n",
       "       -0.25799976, -0.24929127, -0.24064882, -0.23207369, -0.22356704,\n",
       "       -0.21512997, -0.20676352, -0.19846863, -0.19024616, -0.18209692,\n",
       "       -0.17402165, -0.16602099, -0.15809555, -0.15024587, -0.1424724 ,\n",
       "       -0.13477555, -0.12715568, -0.11961308, -0.11214798, -0.10476058,\n",
       "       -0.097451  , -0.09021934, -0.08306562, -0.07598986, -0.06899198,\n",
       "       -0.06207192, -0.05522953, -0.04846464, -0.04177706, -0.03516653,\n",
       "       -0.0286328 , -0.02217556, -0.01579447, -0.00948918, -0.00325928,\n",
       "        0.00289561,  0.00897595,  0.0149822 ,  0.02091483,  0.02677434,\n",
       "        0.03256125,  0.0382761 ,  0.04391944,  0.04949183,  0.05499387,\n",
       "        0.06042613,  0.06578923,  0.07108379,  0.07631042,  0.08146977,\n",
       "        0.08656248,  0.0915892 ,  0.09655059,  0.1014473 ,  0.10628002,\n",
       "        0.11104941,  0.11575616,  0.12040093,  0.12498441,  0.12950728,\n",
       "        0.13397024,  0.13837396,  0.14271914,  0.14700645,  0.15123659,\n",
       "        0.15541023,  0.15952807,  0.16359078,  0.16759904,  0.17155353,\n",
       "        0.17545491,  0.17930387,  0.18310107,  0.18684717,  0.19054282,\n",
       "        0.19418869,  0.19778543,  0.20133367,  0.20483407,  0.20828725,\n",
       "        0.21169385,  0.2150545 ,  0.21836981,  0.22164039,  0.22486686,\n",
       "        0.22804982,  0.23118987,  0.23428759,  0.23734358,  0.24035841,\n",
       "        0.24333265,  0.24626688,  0.24916164,  0.2520175 ,  0.254835  ,\n",
       "        0.25761469,  0.2603571 ,  0.26306275,  0.26573218,  0.26836589,\n",
       "        0.27096439,  0.2735282 ,  0.2760578 ,  0.27855368,  0.28101634,\n",
       "        0.28344624,  0.28584387,  0.28820967,  0.29054413,  0.29284767,\n",
       "        0.29512077,  0.29736384,  0.29957734,  0.30176168,  0.30391729,\n",
       "        0.30604459,  0.30814399,  0.31021589,  0.3122607 ,  0.3142788 ,\n",
       "        0.31627059,  0.31823644,  0.32017674,  0.32209186,  0.32398215,\n",
       "        0.32584799,  0.32768973,  0.32950772,  0.3313023 ,  0.33307382,\n",
       "        0.3348226 ,  0.33654898,  0.33825329,  0.33993584,  0.34159695,\n",
       "        0.34323693,  0.34485609,  0.34645472,  0.34803313,  0.34959161,\n",
       "        0.35113044,  0.35264991,  0.35415029,  0.35563187,  0.35709491,\n",
       "        0.35853968,  0.35996645,  0.36137546,  0.36276698,  0.36414126,\n",
       "        0.36549854,  0.36683907,  0.36816308,  0.36947081,  0.3707625 ,\n",
       "        0.37203837,  0.37329865,  0.37454355,  0.3757733 ,  0.37698811,\n",
       "        0.3781882 ,  0.37937376,  0.38054501,  0.38170215,  0.38284537,\n",
       "        0.38397487,  0.38509085,  0.3861935 ,  0.38728299,  0.38835952,\n",
       "        0.38942326,  0.3904744 ,  0.39151311,  0.39253955,  0.39355391,\n",
       "        0.39455635,  0.39554704,  0.39652613,  0.39749379,  0.39845017,\n",
       "        0.39939544,  0.40032973,  0.40125321,  0.40216601,  0.4030683 ,\n",
       "        0.4039602 ,  0.40484187,  0.40571343,  0.40657504,  0.40742681,\n",
       "        0.40826889,  0.40910141,  0.40992449,  0.41073827,  0.41154286,\n",
       "        0.4123384 ,  0.41312499,  0.41390277,  0.41467185,  0.41543234,\n",
       "        0.41618436,  0.41692802,  0.41766344,  0.41839071,  0.41910996,\n",
       "        0.41982128,  0.42052478,  0.42122056,  0.42190872,  0.42258937,\n",
       "        0.4232626 ,  0.42392851,  0.42458719,  0.42523873,  0.42588324,\n",
       "        0.42652079,  0.42715149,  0.42777542,  0.42839266,  0.4290033 ,\n",
       "        0.42960743,  0.43020513,  0.43079648,  0.43138157,  0.43196046,\n",
       "        0.43253325,  0.43310001,  0.43366081,  0.43421574,  0.43476485,\n",
       "        0.43530824,  0.43584597,  0.4363781 ,  0.43690472,  0.43742589,\n",
       "        0.43794167,  0.43845214,  0.43895736,  0.43945739,  0.43995231,\n",
       "        0.44044217,  0.44092703,  0.44140696,  0.44188202,  0.44235226,\n",
       "        0.44281775,  0.44327855,  0.44373471,  0.44418628,  0.44463333,\n",
       "        0.44507591,  0.44551407,  0.44594786,  0.44637734,  0.44680257,\n",
       "        0.44722358,  0.44764044,  0.44805319,  0.44846187,  0.44886655,\n",
       "        0.44926727,  0.44966406,  0.45005699,  0.45044609,  0.45083142,\n",
       "        0.45121301,  0.45159091,  0.45196516,  0.4523358 ,  0.45270289,\n",
       "        0.45306645,  0.45342653,  0.45378318,  0.45413642,  0.4544863 ,\n",
       "        0.45483287,  0.45517614,  0.45551618,  0.455853  ,  0.45618666,\n",
       "        0.45651717,  0.45684459,  0.45716895,  0.45749027,  0.45780861,\n",
       "        0.45812398,  0.45843642,  0.45874597,  0.45905266,  0.45935652,\n",
       "        0.45965758,  0.45995587,  0.46025143,  0.46054428,  0.46083446,\n",
       "        0.461122  ,  0.46140692,  0.46168925,  0.46196903,  0.46224627,\n",
       "        0.46252102,  0.46279328,  0.46306311,  0.46333051,  0.46359552,\n",
       "        0.46385816,  0.46411846,  0.46437644,  0.46463213,  0.46488555,\n",
       "        0.46513674,  0.4653857 ,  0.46563247,  0.46587707,  0.46611953,\n",
       "        0.46635986,  0.46659808,  0.46683423,  0.46706833,  0.46730039,\n",
       "        0.46753043,  0.46775848,  0.46798457,  0.4682087 ,  0.4684309 ,\n",
       "        0.4686512 ,  0.4688696 ,  0.46908614,  0.46930082,  0.46951368,\n",
       "        0.46972472,  0.46993398,  0.47014145,  0.47034718,  0.47055116,\n",
       "        0.47075343,  0.47095399,  0.47115287,  0.47135009,  0.47154565,\n",
       "        0.47173958,  0.4719319 ,  0.47212261,  0.47231174,  0.47249931,\n",
       "        0.47268532,  0.4728698 ,  0.47305275,  0.47323421,  0.47341417,\n",
       "        0.47359266,  0.47376968,  0.47394527,  0.47411942,  0.47429215,\n",
       "        0.47446349,  0.47463343,  0.474802  ,  0.47496921,  0.47513507,\n",
       "        0.4752996 ,  0.4754628 ,  0.4756247 ,  0.4757853 ,  0.47594462,\n",
       "        0.47610267,  0.47625946,  0.47641501,  0.47656932,  0.47672242,\n",
       "        0.4768743 ,  0.47702498,  0.47717448,  0.47732281,  0.47746997,\n",
       "        0.47761598,  0.47776085,  0.47790459,  0.4780472 ,  0.47818871,\n",
       "        0.47832913,  0.47846845,  0.4786067 ,  0.47874388,  0.47888   ,\n",
       "        0.47901508,  0.47914912,  0.47928213,  0.47941413,  0.47954511,\n",
       "        0.4796751 ,  0.4798041 ,  0.47993212,  0.48005917,  0.48018525,\n",
       "        0.48031039,  0.48043458,  0.48055783,  0.48068016,  0.48080157,\n",
       "        0.48092207,  0.48104167,  0.48116037,  0.48127819,  0.48139514,\n",
       "        0.48151121,  0.48162643,  0.48174079,  0.48185431,  0.48196699,\n",
       "        0.48207884,  0.48218987,  0.48230008,  0.48240949,  0.48251809,\n",
       "        0.4826259 ,  0.48273293,  0.48283918,  0.48294465,  0.48304936,\n",
       "        0.48315332,  0.48325652,  0.48335897,  0.48346069,  0.48356168,\n",
       "        0.48366194,  0.48376148,  0.48386031,  0.48395844,  0.48405586,\n",
       "        0.48415259,  0.48424863,  0.484344  ,  0.48443868,  0.4845327 ,\n",
       "        0.48462605,  0.48471874,  0.48481078,  0.48490218,  0.48499293,\n",
       "        0.48508305,  0.48517253,  0.4852614 ,  0.48534964,  0.48543727,\n",
       "        0.48552429,  0.4856107 ,  0.48569652,  0.48578175,  0.48586638,\n",
       "        0.48595043,  0.48603391,  0.48611681,  0.48619914,  0.48628091,\n",
       "        0.48636212,  0.48644278,  0.48652288,  0.48660244,  0.48668146,\n",
       "        0.48675995,  0.4868379 ,  0.48691532,  0.48699223,  0.48706861,\n",
       "        0.48714448,  0.48721984,  0.4872947 ,  0.48736905,  0.48744291,\n",
       "        0.48751627,  0.48758915,  0.48766153,  0.48773344,  0.48780487,\n",
       "        0.48787583,  0.48794632,  0.48801635,  0.48808591,  0.48815501,\n",
       "        0.48822366,  0.48829186,  0.48835961,  0.48842692,  0.48849379,\n",
       "        0.48856022,  0.48862622,  0.48869179,  0.48875694,  0.48882166,\n",
       "        0.48888597,  0.48894985,  0.48901333,  0.4890764 ,  0.48913906,\n",
       "        0.48920132,  0.48926318,  0.48932464,  0.48938571,  0.48944639,\n",
       "        0.48950669,  0.4895666 ,  0.48962613,  0.48968528,  0.48974405,\n",
       "        0.48980246,  0.48986049,  0.48991816,  0.48997547,  0.49003242,\n",
       "        0.490089  ,  0.49014524,  0.49020112,  0.49025665,  0.49031184,\n",
       "        0.49036668,  0.49042118,  0.49047534,  0.49052916,  0.49058265,\n",
       "        0.49063581,  0.49068865,  0.49074115,  0.49079334,  0.4908452 ,\n",
       "        0.49089674,  0.49094797,  0.49099888,  0.49104948,  0.49109977,\n",
       "        0.49114976,  0.49119944,  0.49124882,  0.4912979 ,  0.49134668,\n",
       "        0.49139517,  0.49144336,  0.49149127,  0.49153888,  0.49158621,\n",
       "        0.49163325,  0.49168001,  0.49172649,  0.49177269,  0.49181862,\n",
       "        0.49186427,  0.49190965,  0.49195476,  0.49199961,  0.49204418,\n",
       "        0.49208849,  0.49213254,  0.49217633,  0.49221986,  0.49226314,\n",
       "        0.49230616,  0.49234893,  0.49239144,  0.49243371,  0.49247573,\n",
       "        0.4925175 ,  0.49255904,  0.49260032,  0.49264137,  0.49268218,\n",
       "        0.49272276,  0.4927631 ,  0.4928032 ,  0.49284307,  0.49288272,\n",
       "        0.49292213,  0.49296132,  0.49300029,  0.49303903,  0.49307754,\n",
       "        0.49311584,  0.49315392,  0.49319178,  0.49322943,  0.49326686,\n",
       "        0.49330408,  0.49334109,  0.49337788,  0.49341447,  0.49345086,\n",
       "        0.49348704,  0.49352301,  0.49355878,  0.49359435,  0.49362972,\n",
       "        0.4936649 ,  0.49369987,  0.49373465,  0.49376924,  0.49380363,\n",
       "        0.49383784,  0.49387185,  0.49390567,  0.49393931,  0.49397276,\n",
       "        0.49400602,  0.4940391 ,  0.494072  ,  0.49410472,  0.49413726,\n",
       "        0.49416962,  0.4942018 ,  0.4942338 ,  0.49426563,  0.49429729,\n",
       "        0.49432877,  0.49436009,  0.49439123,  0.4944222 ,  0.49445301,\n",
       "        0.49448364,  0.49451412,  0.49454442,  0.49457457,  0.49460455,\n",
       "        0.49463437,  0.49466403,  0.49469353,  0.49472287,  0.49475206,\n",
       "        0.49478108,  0.49480996,  0.49483868,  0.49486725,  0.49489566,\n",
       "        0.49492393,  0.49495204,  0.49498001,  0.49500782,  0.49503549,\n",
       "        0.49506302,  0.4950904 ,  0.49511763,  0.49514473,  0.49517168,\n",
       "        0.49519848,  0.49522515,  0.49525168,  0.49527807,  0.49530432,\n",
       "        0.49533044,  0.49535642,  0.49538226,  0.49540798,  0.49543355,\n",
       "        0.495459  ,  0.49548431,  0.4955095 ,  0.49553455,  0.49555947,\n",
       "        0.49558427,  0.49560894,  0.49563348,  0.4956579 ,  0.49568219,\n",
       "        0.49570636,  0.4957304 ,  0.49575432,  0.49577812,  0.4958018 ,\n",
       "        0.49582536,  0.4958488 ,  0.49587212,  0.49589532,  0.49591841,\n",
       "        0.49594138,  0.49596423,  0.49598697,  0.49600959,  0.49603211,\n",
       "        0.4960545 ,  0.49607679,  0.49609896,  0.49612103,  0.49614298,\n",
       "        0.49616482,  0.49618656,  0.49620819,  0.49622971,  0.49625112,\n",
       "        0.49627243,  0.49629363,  0.49631473,  0.49633572,  0.49635661,\n",
       "        0.4963774 ,  0.49639809,  0.49641867,  0.49643915,  0.49645953,\n",
       "        0.49647982,  0.4965    ,  0.49652009,  0.49654008,  0.49655997,\n",
       "        0.49657976,  0.49659946,  0.49661906,  0.49663857,  0.49665798,\n",
       "        0.4966773 ,  0.49669653,  0.49671566,  0.4967347 ,  0.49675365,\n",
       "        0.49677251,  0.49679128,  0.49680996,  0.49682855,  0.49684705,\n",
       "        0.49686547,  0.49688379,  0.49690203,  0.49692018,  0.49693825,\n",
       "        0.49695623,  0.49697412,  0.49699193,  0.49700966,  0.4970273 ,\n",
       "        0.49704486,  0.49706234,  0.49707973,  0.49709705,  0.49711428,\n",
       "        0.49713143,  0.4971485 ,  0.49716549,  0.49718241,  0.49719924,\n",
       "        0.497216  ,  0.49723267,  0.49724927,  0.4972658 ,  0.49728224,\n",
       "        0.49729861,  0.49731491,  0.49733113,  0.49734727,  0.49736334,\n",
       "        0.49737934,  0.49739526,  0.49741111,  0.49742689,  0.4974426 ,\n",
       "        0.49745823,  0.49747379,  0.49748929,  0.49750471,  0.49752006,\n",
       "        0.49753534,  0.49755055,  0.49756569,  0.49758077,  0.49759578,\n",
       "        0.49761071,  0.49762559,  0.49764039,  0.49765513,  0.4976698 ,\n",
       "        0.49768441,  0.49769895,  0.49771342,  0.49772783,  0.49774218,\n",
       "        0.49775646,  0.49777068,  0.49778484,  0.49779893,  0.49781296,\n",
       "        0.49782693,  0.49784083,  0.49785468,  0.49786846,  0.49788218,\n",
       "        0.49789584,  0.49790945,  0.49792299,  0.49793647,  0.4979499 ,\n",
       "        0.49796326,  0.49797657,  0.49798981,  0.49800301,  0.49801614,\n",
       "        0.49802921,  0.49804223,  0.4980552 ,  0.4980681 ,  0.49808095,\n",
       "        0.49809375,  0.49810649,  0.49811917,  0.4981318 ,  0.49814437,\n",
       "        0.4981569 ,  0.49816936,  0.49818178,  0.49819414,  0.49820644,\n",
       "        0.4982187 ,  0.4982309 ,  0.49824305,  0.49825515,  0.4982672 ,\n",
       "        0.49827919,  0.49829114,  0.49830303,  0.49831488,  0.49832667,\n",
       "        0.49833842,  0.49835011,  0.49836176,  0.49837335,  0.4983849 ,\n",
       "        0.4983964 ,  0.49840785,  0.49841925,  0.49843061,  0.49844191,\n",
       "        0.49845317,  0.49846439,  0.49847555,  0.49848667,  0.49849775,\n",
       "        0.49850877,  0.49851976,  0.49853069,  0.49854158,  0.49855243,\n",
       "        0.49856323,  0.49857399,  0.4985847 ,  0.49859537,  0.498606  ,\n",
       "        0.49861658,  0.49862711,  0.49863761,  0.49864806,  0.49865847,\n",
       "        0.49866884,  0.49867916,  0.49868944,  0.49869968,  0.49870988,\n",
       "        0.49872004,  0.49873016,  0.49874023,  0.49875027,  0.49876026,\n",
       "        0.49877022,  0.49878013,  0.49879   ,  0.49879984,  0.49880963,\n",
       "        0.49881939,  0.4988291 ,  0.49883878,  0.49884842,  0.49885802,\n",
       "        0.49886758,  0.49887711,  0.4988866 ,  0.49889604,  0.49890546,\n",
       "        0.49891483,  0.49892417,  0.49893347,  0.49894273,  0.49895196,\n",
       "        0.49896115,  0.4989703 ,  0.49897942,  0.4989885 ,  0.49899755,\n",
       "        0.49900656,  0.49901554,  0.49902448,  0.49903338,  0.49904226,\n",
       "        0.49905109,  0.4990599 ,  0.49906866,  0.4990774 ,  0.4990861 ,\n",
       "        0.49909477,  0.4991034 ,  0.499112  ,  0.49912057,  0.4991291 ,\n",
       "        0.4991376 ,  0.49914607,  0.49915451,  0.49916291,  0.49917128,\n",
       "        0.49917962,  0.49918793,  0.49919621,  0.49920445,  0.49921266,\n",
       "        0.49922084,  0.499229  ,  0.49923711,  0.4992452 ,  0.49925326,\n",
       "        0.49926129,  0.49926929,  0.49927726,  0.49928519,  0.4992931 ,\n",
       "        0.49930098,  0.49930883,  0.49931665,  0.49932444,  0.4993322 ,\n",
       "        0.49933993,  0.49934763,  0.4993553 ,  0.49936295,  0.49937057,\n",
       "        0.49937815,  0.49938572,  0.49939325,  0.49940075,  0.49940823,\n",
       "        0.49941568,  0.4994231 ,  0.49943049,  0.49943786,  0.4994452 ,\n",
       "        0.49945252,  0.4994598 ,  0.49946706,  0.49947429,  0.4994815 ,\n",
       "        0.49948868,  0.49949584,  0.49950296,  0.49951007,  0.49951714,\n",
       "        0.49952419,  0.49953122,  0.49953822,  0.49954519,  0.49955214,\n",
       "        0.49955907,  0.49956597,  0.49957284,  0.49957969,  0.49958652,\n",
       "        0.49959332,  0.49960009,  0.49960685,  0.49961357,  0.49962028,\n",
       "        0.49962696,  0.49963361,  0.49964025,  0.49964686,  0.49965344,\n",
       "        0.49966   ,  0.49966654,  0.49967306,  0.49967955,  0.49968602])"
      ]
     },
     "execution_count": 15,
     "metadata": {},
     "output_type": "execute_result"
    }
   ],
   "source": [
    "q(z2)"
   ]
  },
  {
   "cell_type": "markdown",
   "id": "whole-essay",
   "metadata": {},
   "source": [
    "end"
   ]
  },
  {
   "cell_type": "code",
   "execution_count": null,
   "id": "dedicated-summit",
   "metadata": {},
   "outputs": [],
   "source": []
  },
  {
   "cell_type": "code",
   "execution_count": null,
   "id": "simple-kelly",
   "metadata": {},
   "outputs": [],
   "source": []
  },
  {
   "cell_type": "code",
   "execution_count": null,
   "id": "radical-hygiene",
   "metadata": {},
   "outputs": [],
   "source": []
  },
  {
   "cell_type": "code",
   "execution_count": null,
   "id": "interior-catalyst",
   "metadata": {},
   "outputs": [],
   "source": []
  },
  {
   "cell_type": "markdown",
   "id": "asian-dubai",
   "metadata": {},
   "source": [
    "## Functions for scale factor and t(Gyr)"
   ]
  },
  {
   "cell_type": "code",
   "execution_count": 16,
   "id": "hollywood-freeware",
   "metadata": {},
   "outputs": [],
   "source": [
    "# first part"
   ]
  },
  {
   "cell_type": "code",
   "execution_count": 17,
   "id": "contained-blank",
   "metadata": {},
   "outputs": [
    {
     "name": "stdout",
     "output_type": "stream",
     "text": [
      "0.07256286313861643\n"
     ]
    }
   ],
   "source": [
    "H = 71.0 ## Hubble Constant = 71 km/s/Mpc\n",
    "Mpc = 3.085677581e+19 #kms\n",
    "km = 1.0\n",
    "Gyr= 3.1536e16 #seconds\n",
    "H0 = (H * Gyr * km / Mpc)\n",
    "print(H0)"
   ]
  },
  {
   "cell_type": "code",
   "execution_count": null,
   "id": "brilliant-fence",
   "metadata": {},
   "outputs": [],
   "source": []
  },
  {
   "cell_type": "code",
   "execution_count": null,
   "id": "colored-reconstruction",
   "metadata": {},
   "outputs": [],
   "source": []
  },
  {
   "cell_type": "code",
   "execution_count": null,
   "id": "north-fields",
   "metadata": {},
   "outputs": [],
   "source": []
  },
  {
   "cell_type": "code",
   "execution_count": 18,
   "id": "acoustic-glance",
   "metadata": {},
   "outputs": [],
   "source": [
    "#second part"
   ]
  },
  {
   "cell_type": "code",
   "execution_count": 19,
   "id": "extra-minute",
   "metadata": {},
   "outputs": [],
   "source": [
    "# Open and closed universe"
   ]
  },
  {
   "cell_type": "code",
   "execution_count": 20,
   "id": "indie-lighter",
   "metadata": {},
   "outputs": [],
   "source": [
    "def aeta(oz, eeta): ## oz  refers to Omega_{k}\n",
    "    eq=(1./2.)*(oz/(1.-oz))*(np.cosh(eeta)-1.)\n",
    "    return eq\n",
    "\n",
    "def teta(oz, eeta):\n",
    "    eq=(1./2.)*(1./(H*Gyr*km/Mpc))*(oz/((1.-oz)**(3./2.)))*(np.sinh(eeta)-eeta)\n",
    "    return eq\n",
    "\n",
    "def atheta(oz, thetaa):\n",
    "    eq=(1./2.)*(oz/(oz-1.))*(1.-np.cos(thetaa))\n",
    "    return eq\n",
    "\n",
    "def ttheta(oz, thetaa):\n",
    "    eq=(1./(2.*H))*(oz/((oz-1.)**(3./2.)))*(thetaa-np.sin(thetaa))/(km*Gyr/Mpc)\n",
    "    return eq\n",
    "\n",
    "thetaa = np.arange(0.0,2.0*np.pi,0.001)\n",
    "eeta = np.arange(0.0,1000.0,0.01)\n",
    "\n",
    "aetaa = []\n",
    "tetaa = []\n",
    "athetaa = []\n",
    "tthetaa = []\n",
    "\n",
    "open = [0.99,0.90,0.80,0.30,0.1]\n",
    "closed = [1.1, 1.2, 1.5, 2.0]\n",
    "#agesopen = [9.187, 9.3795271621, 9.5904510966,11.1461044903, 12.377297236]\n",
    "#agesclosed =[9.01115084854, 8.84833006354, 8.4238579855, 7.86623214832]"
   ]
  },
  {
   "cell_type": "code",
   "execution_count": 21,
   "id": "aerial-universal",
   "metadata": {},
   "outputs": [
    {
     "data": {
      "text/plain": [
       "array([0.0000e+00, 1.0000e-02, 2.0000e-02, ..., 9.9997e+02, 9.9998e+02,\n",
       "       9.9999e+02])"
      ]
     },
     "execution_count": 21,
     "metadata": {},
     "output_type": "execute_result"
    }
   ],
   "source": [
    "eeta"
   ]
  },
  {
   "cell_type": "code",
   "execution_count": null,
   "id": "compressed-oracle",
   "metadata": {},
   "outputs": [],
   "source": []
  },
  {
   "cell_type": "markdown",
   "id": "figured-steam",
   "metadata": {},
   "source": [
    "## Plot for Scale factor vs t(Gyr)"
   ]
  },
  {
   "cell_type": "code",
   "execution_count": 22,
   "id": "indian-upper",
   "metadata": {},
   "outputs": [
    {
     "name": "stderr",
     "output_type": "stream",
     "text": [
      "<ipython-input-20-a13370c5e939>:2: RuntimeWarning: overflow encountered in cosh\n",
      "  eq=(1./2.)*(oz/(1.-oz))*(np.cosh(eeta)-1.)\n",
      "<ipython-input-20-a13370c5e939>:2: RuntimeWarning: overflow encountered in multiply\n",
      "  eq=(1./2.)*(oz/(1.-oz))*(np.cosh(eeta)-1.)\n",
      "<ipython-input-20-a13370c5e939>:6: RuntimeWarning: overflow encountered in sinh\n",
      "  eq=(1./2.)*(1./(H*Gyr*km/Mpc))*(oz/((1.-oz)**(3./2.)))*(np.sinh(eeta)-eeta)\n",
      "<ipython-input-20-a13370c5e939>:6: RuntimeWarning: overflow encountered in multiply\n",
      "  eq=(1./2.)*(1./(H*Gyr*km/Mpc))*(oz/((1.-oz)**(3./2.)))*(np.sinh(eeta)-eeta)\n",
      "<ipython-input-20-a13370c5e939>:2: RuntimeWarning: overflow encountered in cosh\n",
      "  eq=(1./2.)*(oz/(1.-oz))*(np.cosh(eeta)-1.)\n",
      "<ipython-input-20-a13370c5e939>:2: RuntimeWarning: overflow encountered in multiply\n",
      "  eq=(1./2.)*(oz/(1.-oz))*(np.cosh(eeta)-1.)\n",
      "<ipython-input-20-a13370c5e939>:6: RuntimeWarning: overflow encountered in sinh\n",
      "  eq=(1./2.)*(1./(H*Gyr*km/Mpc))*(oz/((1.-oz)**(3./2.)))*(np.sinh(eeta)-eeta)\n",
      "<ipython-input-20-a13370c5e939>:6: RuntimeWarning: overflow encountered in multiply\n",
      "  eq=(1./2.)*(1./(H*Gyr*km/Mpc))*(oz/((1.-oz)**(3./2.)))*(np.sinh(eeta)-eeta)\n",
      "<ipython-input-20-a13370c5e939>:2: RuntimeWarning: overflow encountered in cosh\n",
      "  eq=(1./2.)*(oz/(1.-oz))*(np.cosh(eeta)-1.)\n",
      "<ipython-input-20-a13370c5e939>:2: RuntimeWarning: overflow encountered in multiply\n",
      "  eq=(1./2.)*(oz/(1.-oz))*(np.cosh(eeta)-1.)\n",
      "<ipython-input-20-a13370c5e939>:6: RuntimeWarning: overflow encountered in sinh\n",
      "  eq=(1./2.)*(1./(H*Gyr*km/Mpc))*(oz/((1.-oz)**(3./2.)))*(np.sinh(eeta)-eeta)\n",
      "<ipython-input-20-a13370c5e939>:6: RuntimeWarning: overflow encountered in multiply\n",
      "  eq=(1./2.)*(1./(H*Gyr*km/Mpc))*(oz/((1.-oz)**(3./2.)))*(np.sinh(eeta)-eeta)\n",
      "<ipython-input-20-a13370c5e939>:2: RuntimeWarning: overflow encountered in cosh\n",
      "  eq=(1./2.)*(oz/(1.-oz))*(np.cosh(eeta)-1.)\n",
      "<ipython-input-20-a13370c5e939>:6: RuntimeWarning: overflow encountered in sinh\n",
      "  eq=(1./2.)*(1./(H*Gyr*km/Mpc))*(oz/((1.-oz)**(3./2.)))*(np.sinh(eeta)-eeta)\n",
      "<ipython-input-20-a13370c5e939>:6: RuntimeWarning: overflow encountered in multiply\n",
      "  eq=(1./2.)*(1./(H*Gyr*km/Mpc))*(oz/((1.-oz)**(3./2.)))*(np.sinh(eeta)-eeta)\n",
      "<ipython-input-20-a13370c5e939>:2: RuntimeWarning: overflow encountered in cosh\n",
      "  eq=(1./2.)*(oz/(1.-oz))*(np.cosh(eeta)-1.)\n",
      "<ipython-input-20-a13370c5e939>:6: RuntimeWarning: overflow encountered in sinh\n",
      "  eq=(1./2.)*(1./(H*Gyr*km/Mpc))*(oz/((1.-oz)**(3./2.)))*(np.sinh(eeta)-eeta)\n"
     ]
    },
    {
     "data": {
      "image/png": "[encoded data removed]",
      "text/plain": [
       "<Figure size 432x288 with 1 Axes>"
      ]
     },
     "metadata": {
      "needs_background": "light"
     },
     "output_type": "display_data"
    }
   ],
   "source": [
    "# plot of scale factor vs t(Gyr)\n",
    "\n",
    "for i in range(len(open)):\n",
    "    aetaa.append(aeta(open[i],eeta))\n",
    "    tetaa.append(teta(open[i],eeta))\n",
    "    plt.plot(tetaa[i], aetaa[i])\n",
    "\n",
    "for i in range(len(closed)):\n",
    "    athetaa.append(atheta(closed[i],thetaa))\n",
    "    tthetaa.append(ttheta(closed[i],thetaa))\n",
    "    plt.plot(tthetaa[i], athetaa[i])\n",
    "\n",
    "\n",
    "\n",
    "plt.title('Analytical Universes(Matter and Curvature)')\n",
    "\n",
    "\n",
    "#plt.subplot()\n",
    "#plt.plot(t1, flat_a(t1), 'r', tthetaa[i], athetaa[i], 'b--', tetaa[i], aetaa[i], 'g--')\n",
    "\n",
    "plt.xlim(-0.5,300.0)\n",
    "plt.ylim(0.0,30.0)\n",
    "\n",
    "plt.xlabel('time t (Gyr)')\n",
    "plt.ylabel('scale factor a(t)')\n",
    "\n",
    "\n",
    "#plt.legend(['Dp_o = 0.90','Dp_o = 1.1','Dp_o = 0.99'])\n",
    "plt.legend(['Dp_o = 0.99','Dp_o = 1.1','Dp_o = 1.2','Dp_o = 1.5','Dp_o = 2.0','Dp_o = 0.90','Dp_o = 0.80',\n",
    "           'Dp_o = 0.30','Dp_o = 0.10'])\n",
    "\n",
    "plt.grid(True)\n",
    "plt.show()\n"
   ]
  },
  {
   "cell_type": "markdown",
   "id": "solved-basics",
   "metadata": {},
   "source": [
    "End"
   ]
  },
  {
   "cell_type": "code",
   "execution_count": null,
   "id": "champion-hello",
   "metadata": {},
   "outputs": [],
   "source": []
  },
  {
   "cell_type": "code",
   "execution_count": null,
   "id": "quiet-retention",
   "metadata": {},
   "outputs": [],
   "source": []
  },
  {
   "cell_type": "code",
   "execution_count": null,
   "id": "fifteen-penny",
   "metadata": {},
   "outputs": [],
   "source": []
  },
  {
   "cell_type": "markdown",
   "id": "existing-graduate",
   "metadata": {},
   "source": [
    "# Age of flat universes"
   ]
  },
  {
   "cell_type": "code",
   "execution_count": 23,
   "id": "banner-abraham",
   "metadata": {},
   "outputs": [],
   "source": [
    "def flat_age(H1):\n",
    "    return 2/(3*H1)"
   ]
  },
  {
   "cell_type": "code",
   "execution_count": 24,
   "id": "challenging-exclusive",
   "metadata": {},
   "outputs": [
    {
     "data": {
      "text/plain": [
       "9.187436077227783"
      ]
     },
     "execution_count": 24,
     "metadata": {},
     "output_type": "execute_result"
    }
   ],
   "source": [
    "flat_age(H0)"
   ]
  },
  {
   "cell_type": "code",
   "execution_count": null,
   "id": "independent-advertiser",
   "metadata": {},
   "outputs": [],
   "source": []
  },
  {
   "cell_type": "markdown",
   "id": "experienced-principal",
   "metadata": {},
   "source": [
    "# Age of open universes"
   ]
  },
  {
   "cell_type": "code",
   "execution_count": 25,
   "id": "organizational-wound",
   "metadata": {},
   "outputs": [],
   "source": [
    "def open_age(Dp_o):\n",
    "    Ht = (1/(1 - Dp_o)) - (Dp_o/(2*(1 - Dp_o)**(3/2)))*np.arccosh((2 - Dp_o)/Dp_o)\n",
    "    return Ht/H0"
   ]
  },
  {
   "cell_type": "code",
   "execution_count": 26,
   "id": "missing-index",
   "metadata": {},
   "outputs": [
    {
     "data": {
      "text/plain": [
       "9.187453937581756"
      ]
     },
     "execution_count": 26,
     "metadata": {},
     "output_type": "execute_result"
    }
   ],
   "source": [
    "open_age(0.99999)"
   ]
  },
  {
   "cell_type": "code",
   "execution_count": null,
   "id": "hazardous-journey",
   "metadata": {},
   "outputs": [],
   "source": []
  },
  {
   "cell_type": "markdown",
   "id": "simplified-hundred",
   "metadata": {},
   "source": [
    "# Age of closed universes"
   ]
  },
  {
   "cell_type": "code",
   "execution_count": 27,
   "id": "structural-snowboard",
   "metadata": {},
   "outputs": [],
   "source": [
    "def closed_age(Dp_oo):\n",
    "    Hoto = (Dp_oo/(2*(Dp_oo - 1)**(3/2)))*np.arccos((2 - Dp_oo)/Dp_oo) - (1/(Dp_oo - 1))\n",
    "    return Hoto/H0"
   ]
  },
  {
   "cell_type": "code",
   "execution_count": 28,
   "id": "excessive-mortgage",
   "metadata": {},
   "outputs": [
    {
     "data": {
      "text/plain": [
       "9.01115084854339"
      ]
     },
     "execution_count": 28,
     "metadata": {},
     "output_type": "execute_result"
    }
   ],
   "source": [
    "closed_age(1.1)"
   ]
  },
  {
   "cell_type": "markdown",
   "id": "modified-instruction",
   "metadata": {},
   "source": [
    "End"
   ]
  },
  {
   "cell_type": "code",
   "execution_count": null,
   "id": "lonely-seattle",
   "metadata": {},
   "outputs": [],
   "source": []
  },
  {
   "cell_type": "code",
   "execution_count": null,
   "id": "systematic-november",
   "metadata": {},
   "outputs": [],
   "source": []
  },
  {
   "cell_type": "code",
   "execution_count": null,
   "id": "roman-guitar",
   "metadata": {},
   "outputs": [],
   "source": []
  },
  {
   "cell_type": "code",
   "execution_count": null,
   "id": "engaged-accessory",
   "metadata": {},
   "outputs": [],
   "source": []
  },
  {
   "cell_type": "code",
   "execution_count": null,
   "id": "central-manner",
   "metadata": {},
   "outputs": [],
   "source": []
  },
  {
   "cell_type": "code",
   "execution_count": null,
   "id": "interim-anderson",
   "metadata": {},
   "outputs": [],
   "source": []
  },
  {
   "cell_type": "code",
   "execution_count": null,
   "id": "muslim-northwest",
   "metadata": {},
   "outputs": [],
   "source": []
  },
  {
   "cell_type": "markdown",
   "id": "documentary-election",
   "metadata": {},
   "source": [
    "# Scale factor vs time t(Gyr) for one Dp_o and eta/theta"
   ]
  },
  {
   "cell_type": "code",
   "execution_count": 29,
   "id": "competitive-repeat",
   "metadata": {},
   "outputs": [
    {
     "name": "stdout",
     "output_type": "stream",
     "text": [
      "0.06914934253463081\n"
     ]
    }
   ],
   "source": [
    "H = 67.66 ## Hubble Constant = 71 km/s/Mpc\n",
    "Mpc = 3.085677581e+19 #kms\n",
    "km = 1.0\n",
    "Gyr= 3.1536e16 #seconds\n",
    "H0 = (H * Gyr * km / Mpc)\n",
    "print(H0)"
   ]
  },
  {
   "cell_type": "code",
   "execution_count": null,
   "id": "honest-fashion",
   "metadata": {},
   "outputs": [],
   "source": []
  },
  {
   "cell_type": "code",
   "execution_count": 30,
   "id": "fancy-ivory",
   "metadata": {},
   "outputs": [],
   "source": [
    "def mat_flat(t):\n",
    "    return a0*(t/t0)**(2/3)"
   ]
  },
  {
   "cell_type": "code",
   "execution_count": null,
   "id": "egyptian-counter",
   "metadata": {},
   "outputs": [],
   "source": []
  },
  {
   "cell_type": "code",
   "execution_count": 31,
   "id": "deadly-arbor",
   "metadata": {},
   "outputs": [],
   "source": [
    "# a(eta)\n",
    "\n",
    "def a_eta(Dp_o, eta):\n",
    "    return (1./2.)*(Dp_o/(1.-Dp_o))*(np.cosh(eta) - 1.)"
   ]
  },
  {
   "cell_type": "code",
   "execution_count": 32,
   "id": "aboriginal-passage",
   "metadata": {},
   "outputs": [],
   "source": [
    "# t(eta)\n",
    "\n",
    "def t_eta(Dp_o, eta):\n",
    "    return (1./2.)*(1./(H*Gyr*km/Mpc))*(Dp_o/((1. - Dp_o)**(3./2.)))*(np.sinh(eta) - eta)    "
   ]
  },
  {
   "cell_type": "code",
   "execution_count": null,
   "id": "handled-sending",
   "metadata": {},
   "outputs": [],
   "source": []
  },
  {
   "cell_type": "code",
   "execution_count": 33,
   "id": "equal-settlement",
   "metadata": {},
   "outputs": [],
   "source": [
    "# a(theta)\n",
    "\n",
    "\n",
    "def a_theta(Dp_o, theta):\n",
    "    return (1./2.)*(Dp_o/(Dp_o-1.))*(1.- np.cos(theta))"
   ]
  },
  {
   "cell_type": "code",
   "execution_count": 34,
   "id": "industrial-vietnam",
   "metadata": {},
   "outputs": [],
   "source": [
    "# t(theta)\n",
    "\n",
    "\n",
    "def t_theta(Dp_o, theta):\n",
    "    return (1./(2.*H))*(Dp_o/((Dp_o - 1.)**(3./2.)))*(theta-np.sin(theta))/(km*Gyr/Mpc)    "
   ]
  },
  {
   "cell_type": "code",
   "execution_count": null,
   "id": "isolated-cookie",
   "metadata": {},
   "outputs": [],
   "source": []
  },
  {
   "cell_type": "code",
   "execution_count": 66,
   "id": "handled-going",
   "metadata": {},
   "outputs": [],
   "source": [
    "# eta and theta\n",
    "\n",
    "t1 = np.arange(0.0,1000.0,0.01)\n",
    "thetaa = np.arange(0.0,2.0*np.pi,0.001)\n",
    "eeta = np.arange(0.0,1000.0,0.01)"
   ]
  },
  {
   "cell_type": "code",
   "execution_count": null,
   "id": "incredible-pastor",
   "metadata": {},
   "outputs": [],
   "source": []
  },
  {
   "cell_type": "code",
   "execution_count": 67,
   "id": "meaningful-camping",
   "metadata": {},
   "outputs": [],
   "source": [
    "# Dp_o for flat,open and closed universes\n",
    "\n",
    "import random\n",
    "\n",
    "\n",
    "closed = np.arange(1.01,1.99,0.01)\n",
    "flat = np.arange(0.991,1.011,0.001)\n",
    "open = np.arange(0.01,0.99,0.01)\n",
    "\n",
    "Dp_flat = random.choice(flat)\n",
    "Dp_open = random.choice(open)\n",
    "Dp_closed = random.choice(closed)"
   ]
  },
  {
   "cell_type": "code",
   "execution_count": null,
   "id": "fixed-accident",
   "metadata": {},
   "outputs": [],
   "source": []
  },
  {
   "cell_type": "code",
   "execution_count": 68,
   "id": "domestic-patrol",
   "metadata": {},
   "outputs": [],
   "source": [
    "#open,closed,flat"
   ]
  },
  {
   "cell_type": "code",
   "execution_count": null,
   "id": "similar-youth",
   "metadata": {},
   "outputs": [],
   "source": []
  },
  {
   "cell_type": "markdown",
   "id": "biblical-relaxation",
   "metadata": {},
   "source": [
    "# second code for plot a(t) vs t"
   ]
  },
  {
   "cell_type": "code",
   "execution_count": 69,
   "id": "posted-pizza",
   "metadata": {},
   "outputs": [
    {
     "name": "stderr",
     "output_type": "stream",
     "text": [
      "<ipython-input-32-43ced743f848>:4: RuntimeWarning: overflow encountered in sinh\n",
      "  return (1./2.)*(1./(H*Gyr*km/Mpc))*(Dp_o/((1. - Dp_o)**(3./2.)))*(np.sinh(eta) - eta)\n",
      "<ipython-input-32-43ced743f848>:4: RuntimeWarning: overflow encountered in multiply\n",
      "  return (1./2.)*(1./(H*Gyr*km/Mpc))*(Dp_o/((1. - Dp_o)**(3./2.)))*(np.sinh(eta) - eta)\n",
      "<ipython-input-31-45439bc40fcd>:4: RuntimeWarning: overflow encountered in cosh\n",
      "  return (1./2.)*(Dp_o/(1.-Dp_o))*(np.cosh(eta) - 1.)\n"
     ]
    },
    {
     "data": {
      "image/png": "[encoded data removed]",
      "text/plain": [
       "<Figure size 432x288 with 1 Axes>"
      ]
     },
     "metadata": {
      "needs_background": "light"
     },
     "output_type": "display_data"
    }
   ],
   "source": [
    "# plot of a(t) vs t\n",
    "\n",
    "\n",
    "plt.plot(t_eta(Dp_open, eeta), a_eta(Dp_open, eeta), 'b--', t_theta(Dp_closed, thetaa), a_theta(Dp_closed,\n",
    "                                                                                                           \n",
    "    thetaa), 'r--', t1 ,mat_flat(t1), 'g--' )\n",
    "\n",
    "plt.title('Analytical Universes(Matter and Curvature)')\n",
    "\n",
    "plt.xlim(-10.9,300.0)\n",
    "plt.ylim(0.0,10.0)\n",
    "\n",
    "plt.xlabel('time (t)')\n",
    "plt.ylabel('scale factor a(t)')\n",
    "\n",
    "\n",
    "plt.legend(['$\\Omega_{0}$ < 1','$\\Omega_{0}$ > 1','$\\Omega_{0}$ = 1'])\n",
    "\n",
    "plt.grid(True)\n",
    "plt.show()"
   ]
  },
  {
   "cell_type": "markdown",
   "id": "alternate-kernel",
   "metadata": {},
   "source": [
    "End"
   ]
  },
  {
   "cell_type": "code",
   "execution_count": null,
   "id": "insured-shower",
   "metadata": {},
   "outputs": [],
   "source": []
  },
  {
   "cell_type": "code",
   "execution_count": null,
   "id": "exact-trout",
   "metadata": {},
   "outputs": [],
   "source": []
  },
  {
   "cell_type": "code",
   "execution_count": null,
   "id": "ranking-senegal",
   "metadata": {},
   "outputs": [],
   "source": []
  },
  {
   "cell_type": "code",
   "execution_count": null,
   "id": "shared-blood",
   "metadata": {},
   "outputs": [],
   "source": []
  },
  {
   "cell_type": "markdown",
   "id": "noted-metro",
   "metadata": {},
   "source": [
    "# Third plot for a(t) vs t"
   ]
  },
  {
   "cell_type": "code",
   "execution_count": 39,
   "id": "resident-cattle",
   "metadata": {},
   "outputs": [],
   "source": [
    "import random"
   ]
  },
  {
   "cell_type": "code",
   "execution_count": 40,
   "id": "behavioral-action",
   "metadata": {},
   "outputs": [
    {
     "name": "stderr",
     "output_type": "stream",
     "text": [
      "<ipython-input-31-45439bc40fcd>:4: RuntimeWarning: overflow encountered in cosh\n",
      "  return (1./2.)*(Dp_o/(1.-Dp_o))*(np.cosh(eta) - 1.)\n",
      "<ipython-input-32-43ced743f848>:4: RuntimeWarning: overflow encountered in sinh\n",
      "  return (1./2.)*(1./(H*Gyr*km/Mpc))*(Dp_o/((1. - Dp_o)**(3./2.)))*(np.sinh(eta) - eta)\n",
      "<ipython-input-32-43ced743f848>:4: RuntimeWarning: overflow encountered in multiply\n",
      "  return (1./2.)*(1./(H*Gyr*km/Mpc))*(Dp_o/((1. - Dp_o)**(3./2.)))*(np.sinh(eta) - eta)\n",
      "<ipython-input-31-45439bc40fcd>:4: RuntimeWarning: overflow encountered in cosh\n",
      "  return (1./2.)*(Dp_o/(1.-Dp_o))*(np.cosh(eta) - 1.)\n",
      "<ipython-input-32-43ced743f848>:4: RuntimeWarning: overflow encountered in sinh\n",
      "  return (1./2.)*(1./(H*Gyr*km/Mpc))*(Dp_o/((1. - Dp_o)**(3./2.)))*(np.sinh(eta) - eta)\n",
      "<ipython-input-32-43ced743f848>:4: RuntimeWarning: overflow encountered in multiply\n",
      "  return (1./2.)*(1./(H*Gyr*km/Mpc))*(Dp_o/((1. - Dp_o)**(3./2.)))*(np.sinh(eta) - eta)\n",
      "<ipython-input-31-45439bc40fcd>:4: RuntimeWarning: overflow encountered in cosh\n",
      "  return (1./2.)*(Dp_o/(1.-Dp_o))*(np.cosh(eta) - 1.)\n",
      "<ipython-input-32-43ced743f848>:4: RuntimeWarning: overflow encountered in sinh\n",
      "  return (1./2.)*(1./(H*Gyr*km/Mpc))*(Dp_o/((1. - Dp_o)**(3./2.)))*(np.sinh(eta) - eta)\n",
      "<ipython-input-32-43ced743f848>:4: RuntimeWarning: overflow encountered in multiply\n",
      "  return (1./2.)*(1./(H*Gyr*km/Mpc))*(Dp_o/((1. - Dp_o)**(3./2.)))*(np.sinh(eta) - eta)\n",
      "<ipython-input-31-45439bc40fcd>:4: RuntimeWarning: overflow encountered in cosh\n",
      "  return (1./2.)*(Dp_o/(1.-Dp_o))*(np.cosh(eta) - 1.)\n",
      "<ipython-input-32-43ced743f848>:4: RuntimeWarning: overflow encountered in sinh\n",
      "  return (1./2.)*(1./(H*Gyr*km/Mpc))*(Dp_o/((1. - Dp_o)**(3./2.)))*(np.sinh(eta) - eta)\n",
      "<ipython-input-32-43ced743f848>:4: RuntimeWarning: overflow encountered in multiply\n",
      "  return (1./2.)*(1./(H*Gyr*km/Mpc))*(Dp_o/((1. - Dp_o)**(3./2.)))*(np.sinh(eta) - eta)\n",
      "<ipython-input-31-45439bc40fcd>:4: RuntimeWarning: overflow encountered in cosh\n",
      "  return (1./2.)*(Dp_o/(1.-Dp_o))*(np.cosh(eta) - 1.)\n",
      "<ipython-input-32-43ced743f848>:4: RuntimeWarning: overflow encountered in sinh\n",
      "  return (1./2.)*(1./(H*Gyr*km/Mpc))*(Dp_o/((1. - Dp_o)**(3./2.)))*(np.sinh(eta) - eta)\n",
      "<ipython-input-32-43ced743f848>:4: RuntimeWarning: overflow encountered in multiply\n",
      "  return (1./2.)*(1./(H*Gyr*km/Mpc))*(Dp_o/((1. - Dp_o)**(3./2.)))*(np.sinh(eta) - eta)\n",
      "<ipython-input-31-45439bc40fcd>:4: RuntimeWarning: overflow encountered in cosh\n",
      "  return (1./2.)*(Dp_o/(1.-Dp_o))*(np.cosh(eta) - 1.)\n",
      "<ipython-input-32-43ced743f848>:4: RuntimeWarning: overflow encountered in sinh\n",
      "  return (1./2.)*(1./(H*Gyr*km/Mpc))*(Dp_o/((1. - Dp_o)**(3./2.)))*(np.sinh(eta) - eta)\n",
      "<ipython-input-32-43ced743f848>:4: RuntimeWarning: overflow encountered in multiply\n",
      "  return (1./2.)*(1./(H*Gyr*km/Mpc))*(Dp_o/((1. - Dp_o)**(3./2.)))*(np.sinh(eta) - eta)\n",
      "<ipython-input-31-45439bc40fcd>:4: RuntimeWarning: overflow encountered in cosh\n",
      "  return (1./2.)*(Dp_o/(1.-Dp_o))*(np.cosh(eta) - 1.)\n",
      "<ipython-input-31-45439bc40fcd>:4: RuntimeWarning: overflow encountered in multiply\n",
      "  return (1./2.)*(Dp_o/(1.-Dp_o))*(np.cosh(eta) - 1.)\n",
      "<ipython-input-32-43ced743f848>:4: RuntimeWarning: overflow encountered in sinh\n",
      "  return (1./2.)*(1./(H*Gyr*km/Mpc))*(Dp_o/((1. - Dp_o)**(3./2.)))*(np.sinh(eta) - eta)\n",
      "<ipython-input-31-45439bc40fcd>:4: RuntimeWarning: overflow encountered in cosh\n",
      "  return (1./2.)*(Dp_o/(1.-Dp_o))*(np.cosh(eta) - 1.)\n",
      "<ipython-input-32-43ced743f848>:4: RuntimeWarning: overflow encountered in sinh\n",
      "  return (1./2.)*(1./(H*Gyr*km/Mpc))*(Dp_o/((1. - Dp_o)**(3./2.)))*(np.sinh(eta) - eta)\n",
      "<ipython-input-32-43ced743f848>:4: RuntimeWarning: overflow encountered in multiply\n",
      "  return (1./2.)*(1./(H*Gyr*km/Mpc))*(Dp_o/((1. - Dp_o)**(3./2.)))*(np.sinh(eta) - eta)\n",
      "<ipython-input-31-45439bc40fcd>:4: RuntimeWarning: overflow encountered in cosh\n",
      "  return (1./2.)*(Dp_o/(1.-Dp_o))*(np.cosh(eta) - 1.)\n",
      "<ipython-input-32-43ced743f848>:4: RuntimeWarning: overflow encountered in sinh\n",
      "  return (1./2.)*(1./(H*Gyr*km/Mpc))*(Dp_o/((1. - Dp_o)**(3./2.)))*(np.sinh(eta) - eta)\n",
      "<ipython-input-32-43ced743f848>:4: RuntimeWarning: overflow encountered in multiply\n",
      "  return (1./2.)*(1./(H*Gyr*km/Mpc))*(Dp_o/((1. - Dp_o)**(3./2.)))*(np.sinh(eta) - eta)\n",
      "<ipython-input-31-45439bc40fcd>:4: RuntimeWarning: overflow encountered in cosh\n",
      "  return (1./2.)*(Dp_o/(1.-Dp_o))*(np.cosh(eta) - 1.)\n",
      "<ipython-input-31-45439bc40fcd>:4: RuntimeWarning: overflow encountered in multiply\n",
      "  return (1./2.)*(Dp_o/(1.-Dp_o))*(np.cosh(eta) - 1.)\n",
      "<ipython-input-32-43ced743f848>:4: RuntimeWarning: overflow encountered in sinh\n",
      "  return (1./2.)*(1./(H*Gyr*km/Mpc))*(Dp_o/((1. - Dp_o)**(3./2.)))*(np.sinh(eta) - eta)\n",
      "<ipython-input-31-45439bc40fcd>:4: RuntimeWarning: overflow encountered in cosh\n",
      "  return (1./2.)*(Dp_o/(1.-Dp_o))*(np.cosh(eta) - 1.)\n",
      "<ipython-input-32-43ced743f848>:4: RuntimeWarning: overflow encountered in sinh\n",
      "  return (1./2.)*(1./(H*Gyr*km/Mpc))*(Dp_o/((1. - Dp_o)**(3./2.)))*(np.sinh(eta) - eta)\n",
      "<ipython-input-32-43ced743f848>:4: RuntimeWarning: overflow encountered in multiply\n",
      "  return (1./2.)*(1./(H*Gyr*km/Mpc))*(Dp_o/((1. - Dp_o)**(3./2.)))*(np.sinh(eta) - eta)\n",
      "<ipython-input-31-45439bc40fcd>:4: RuntimeWarning: overflow encountered in cosh\n",
      "  return (1./2.)*(Dp_o/(1.-Dp_o))*(np.cosh(eta) - 1.)\n",
      "<ipython-input-32-43ced743f848>:4: RuntimeWarning: overflow encountered in sinh\n",
      "  return (1./2.)*(1./(H*Gyr*km/Mpc))*(Dp_o/((1. - Dp_o)**(3./2.)))*(np.sinh(eta) - eta)\n",
      "<ipython-input-32-43ced743f848>:4: RuntimeWarning: overflow encountered in multiply\n",
      "  return (1./2.)*(1./(H*Gyr*km/Mpc))*(Dp_o/((1. - Dp_o)**(3./2.)))*(np.sinh(eta) - eta)\n",
      "<ipython-input-31-45439bc40fcd>:4: RuntimeWarning: overflow encountered in cosh\n",
      "  return (1./2.)*(Dp_o/(1.-Dp_o))*(np.cosh(eta) - 1.)\n",
      "<ipython-input-32-43ced743f848>:4: RuntimeWarning: overflow encountered in sinh\n",
      "  return (1./2.)*(1./(H*Gyr*km/Mpc))*(Dp_o/((1. - Dp_o)**(3./2.)))*(np.sinh(eta) - eta)\n",
      "<ipython-input-32-43ced743f848>:4: RuntimeWarning: overflow encountered in multiply\n",
      "  return (1./2.)*(1./(H*Gyr*km/Mpc))*(Dp_o/((1. - Dp_o)**(3./2.)))*(np.sinh(eta) - eta)\n",
      "<ipython-input-31-45439bc40fcd>:4: RuntimeWarning: overflow encountered in cosh\n",
      "  return (1./2.)*(Dp_o/(1.-Dp_o))*(np.cosh(eta) - 1.)\n",
      "<ipython-input-31-45439bc40fcd>:4: RuntimeWarning: overflow encountered in multiply\n",
      "  return (1./2.)*(Dp_o/(1.-Dp_o))*(np.cosh(eta) - 1.)\n",
      "<ipython-input-32-43ced743f848>:4: RuntimeWarning: overflow encountered in sinh\n",
      "  return (1./2.)*(1./(H*Gyr*km/Mpc))*(Dp_o/((1. - Dp_o)**(3./2.)))*(np.sinh(eta) - eta)\n",
      "<ipython-input-31-45439bc40fcd>:4: RuntimeWarning: overflow encountered in cosh\n",
      "  return (1./2.)*(Dp_o/(1.-Dp_o))*(np.cosh(eta) - 1.)\n",
      "<ipython-input-31-45439bc40fcd>:4: RuntimeWarning: overflow encountered in multiply\n",
      "  return (1./2.)*(Dp_o/(1.-Dp_o))*(np.cosh(eta) - 1.)\n",
      "<ipython-input-32-43ced743f848>:4: RuntimeWarning: overflow encountered in sinh\n",
      "  return (1./2.)*(1./(H*Gyr*km/Mpc))*(Dp_o/((1. - Dp_o)**(3./2.)))*(np.sinh(eta) - eta)\n",
      "<ipython-input-31-45439bc40fcd>:4: RuntimeWarning: overflow encountered in cosh\n",
      "  return (1./2.)*(Dp_o/(1.-Dp_o))*(np.cosh(eta) - 1.)\n",
      "<ipython-input-32-43ced743f848>:4: RuntimeWarning: overflow encountered in sinh\n",
      "  return (1./2.)*(1./(H*Gyr*km/Mpc))*(Dp_o/((1. - Dp_o)**(3./2.)))*(np.sinh(eta) - eta)\n",
      "<ipython-input-32-43ced743f848>:4: RuntimeWarning: overflow encountered in multiply\n",
      "  return (1./2.)*(1./(H*Gyr*km/Mpc))*(Dp_o/((1. - Dp_o)**(3./2.)))*(np.sinh(eta) - eta)\n",
      "<ipython-input-31-45439bc40fcd>:4: RuntimeWarning: overflow encountered in cosh\n",
      "  return (1./2.)*(Dp_o/(1.-Dp_o))*(np.cosh(eta) - 1.)\n",
      "<ipython-input-31-45439bc40fcd>:4: RuntimeWarning: overflow encountered in multiply\n",
      "  return (1./2.)*(Dp_o/(1.-Dp_o))*(np.cosh(eta) - 1.)\n",
      "<ipython-input-32-43ced743f848>:4: RuntimeWarning: overflow encountered in sinh\n",
      "  return (1./2.)*(1./(H*Gyr*km/Mpc))*(Dp_o/((1. - Dp_o)**(3./2.)))*(np.sinh(eta) - eta)\n",
      "<ipython-input-31-45439bc40fcd>:4: RuntimeWarning: overflow encountered in cosh\n",
      "  return (1./2.)*(Dp_o/(1.-Dp_o))*(np.cosh(eta) - 1.)\n",
      "<ipython-input-31-45439bc40fcd>:4: RuntimeWarning: overflow encountered in multiply\n",
      "  return (1./2.)*(Dp_o/(1.-Dp_o))*(np.cosh(eta) - 1.)\n",
      "<ipython-input-32-43ced743f848>:4: RuntimeWarning: overflow encountered in sinh\n",
      "  return (1./2.)*(1./(H*Gyr*km/Mpc))*(Dp_o/((1. - Dp_o)**(3./2.)))*(np.sinh(eta) - eta)\n",
      "<ipython-input-31-45439bc40fcd>:4: RuntimeWarning: overflow encountered in cosh\n",
      "  return (1./2.)*(Dp_o/(1.-Dp_o))*(np.cosh(eta) - 1.)\n",
      "<ipython-input-32-43ced743f848>:4: RuntimeWarning: overflow encountered in sinh\n",
      "  return (1./2.)*(1./(H*Gyr*km/Mpc))*(Dp_o/((1. - Dp_o)**(3./2.)))*(np.sinh(eta) - eta)\n",
      "<ipython-input-31-45439bc40fcd>:4: RuntimeWarning: overflow encountered in cosh\n",
      "  return (1./2.)*(Dp_o/(1.-Dp_o))*(np.cosh(eta) - 1.)\n",
      "<ipython-input-32-43ced743f848>:4: RuntimeWarning: overflow encountered in sinh\n",
      "  return (1./2.)*(1./(H*Gyr*km/Mpc))*(Dp_o/((1. - Dp_o)**(3./2.)))*(np.sinh(eta) - eta)\n",
      "<ipython-input-32-43ced743f848>:4: RuntimeWarning: overflow encountered in multiply\n",
      "  return (1./2.)*(1./(H*Gyr*km/Mpc))*(Dp_o/((1. - Dp_o)**(3./2.)))*(np.sinh(eta) - eta)\n"
     ]
    },
    {
     "name": "stderr",
     "output_type": "stream",
     "text": [
      "<ipython-input-40-d5f7a4c81ee0>:43: MatplotlibDeprecationWarning: Adding an axes using the same arguments as a previous axes currently reuses the earlier instance.  In a future version, a new instance will always be created and returned.  Meanwhile, this warning can be suppressed, and the future behavior ensured, by passing a unique label to each axes instance.\n",
      "  plt.subplot()\n"
     ]
    },
    {
     "data": {
      "image/png": "[encoded data removed]",
      "text/plain": [
       "<Figure size 432x288 with 1 Axes>"
      ]
     },
     "metadata": {
      "needs_background": "light"
     },
     "output_type": "display_data"
    }
   ],
   "source": [
    "# Plotting\n",
    "\n",
    "aetaa = []\n",
    "tetaa = []\n",
    "athetaa = []\n",
    "tthetaa = []\n",
    "\n",
    "#open = [0.99,0.90,0.80,0.30,0.1]\n",
    "#closed = [1.1, 1.2, 1.5, 2.0]\n",
    "\n",
    "open = []\n",
    "closed = []\n",
    "\n",
    "import random\n",
    "n = 20\n",
    "for i in range(n):\n",
    "    s0 = np.arange(1.01,1.99,0.01)\n",
    "    s = np.arange(0.01,1,0.01)\n",
    "    num = random.choice(s)\n",
    "    num0 = random.choice(s0)\n",
    "    closed.append(num0)\n",
    "    open.append(num)\n",
    "\n",
    "#print(open,closed)\n",
    "plt.plot(t1 ,mat_flat(t1), 'k--')\n",
    "\n",
    "\n",
    "for i in range(len(open)):\n",
    "    aetaa.append(a_eta(open[i],eeta))\n",
    "    tetaa.append(t_eta(open[i],eeta))\n",
    "    plt.plot(tetaa[i], aetaa[i])\n",
    "\n",
    "for i in range(len(closed)):\n",
    "    athetaa.append(a_theta(closed[i],thetaa))\n",
    "    tthetaa.append(t_theta(closed[i],thetaa))\n",
    "    plt.plot(tthetaa[i], athetaa[i])\n",
    "\n",
    "\n",
    "\n",
    "plt.title('Analytical Universes')\n",
    "\n",
    "\n",
    "plt.subplot()\n",
    "\n",
    "#plt.plot(t_eta(Dp_open, eeta),a_eta(Dp_open, eeta),'b--')\n",
    "#plt.plot(t_theta(Dp_closed,thetaa),a_theta(Dp_closed,thetaa),'r--')\n",
    "plt.plot(t1 ,mat_flat(t1), 'k--')\n",
    "\n",
    "\n",
    "\n",
    "plt.xlim(-0.5,800.0)\n",
    "plt.ylim(0.0,40.0)\n",
    "\n",
    "plt.xlabel('time t (Gyr)')\n",
    "plt.ylabel('scale factor a(t)')\n",
    "\n",
    "\n",
    "plt.legend(['Dp_o = 1','Dp_o > 1','Dp_o < 1'])\n",
    "#plt.legend(['Dp_o = 0.99','Dp_o = 1.1','Dp_o = 1.2','Dp_o = 1.5','Dp_o = 2.0','Dp_o = 0.90','Dp_o = 0.80',\n",
    " #          'Dp_o = 0.30','Dp_o = 0.10'])\n",
    "\n",
    "plt.grid(True)\n",
    "plt.show()"
   ]
  },
  {
   "cell_type": "markdown",
   "id": "cooked-coordinator",
   "metadata": {},
   "source": [
    "End"
   ]
  },
  {
   "cell_type": "code",
   "execution_count": null,
   "id": "homeless-rebel",
   "metadata": {},
   "outputs": [],
   "source": []
  },
  {
   "cell_type": "code",
   "execution_count": null,
   "id": "changed-mixture",
   "metadata": {},
   "outputs": [],
   "source": []
  },
  {
   "cell_type": "code",
   "execution_count": null,
   "id": "normal-capacity",
   "metadata": {},
   "outputs": [],
   "source": []
  },
  {
   "cell_type": "code",
   "execution_count": null,
   "id": "nearby-canon",
   "metadata": {},
   "outputs": [],
   "source": []
  },
  {
   "cell_type": "code",
   "execution_count": null,
   "id": "surface-vertical",
   "metadata": {},
   "outputs": [],
   "source": []
  },
  {
   "cell_type": "code",
   "execution_count": null,
   "id": "touched-genre",
   "metadata": {},
   "outputs": [],
   "source": []
  },
  {
   "cell_type": "code",
   "execution_count": null,
   "id": "executed-brake",
   "metadata": {},
   "outputs": [],
   "source": []
  },
  {
   "cell_type": "code",
   "execution_count": null,
   "id": "interpreted-drill",
   "metadata": {},
   "outputs": [],
   "source": []
  },
  {
   "cell_type": "code",
   "execution_count": null,
   "id": "grateful-leadership",
   "metadata": {},
   "outputs": [],
   "source": []
  },
  {
   "cell_type": "markdown",
   "id": "interim-actress",
   "metadata": {},
   "source": [
    "# 3. Interacting DE-DM models"
   ]
  },
  {
   "cell_type": "code",
   "execution_count": null,
   "id": "handmade-forest",
   "metadata": {},
   "outputs": [],
   "source": []
  },
  {
   "cell_type": "code",
   "execution_count": null,
   "id": "explicit-crisis",
   "metadata": {},
   "outputs": [],
   "source": []
  },
  {
   "cell_type": "code",
   "execution_count": null,
   "id": "changing-eleven",
   "metadata": {},
   "outputs": [],
   "source": []
  },
  {
   "cell_type": "code",
   "execution_count": null,
   "id": "spectacular-heart",
   "metadata": {},
   "outputs": [],
   "source": []
  },
  {
   "cell_type": "markdown",
   "id": "fundamental-health",
   "metadata": {},
   "source": [
    "# Hubble parameter"
   ]
  },
  {
   "cell_type": "code",
   "execution_count": 41,
   "id": "constant-postage",
   "metadata": {},
   "outputs": [],
   "source": [
    "def h_Q1(z,d,w):\n",
    "    return Dp_ro*(1+z)**4 + Dp_bmo*(1+z)**3 + Dp_dmo*(1+z)**(3-d) + Dp_deo*(1+z)**(3+3*w)+Dp_dmo*(d/(d+3*w))*((1+z)**(3*w) - (1+z)**(-d))*(1+z)**3 + Dp_k*(1+z)**2"
   ]
  },
  {
   "cell_type": "code",
   "execution_count": null,
   "id": "simplified-apparatus",
   "metadata": {},
   "outputs": [],
   "source": []
  },
  {
   "cell_type": "code",
   "execution_count": 42,
   "id": "decent-learning",
   "metadata": {},
   "outputs": [],
   "source": [
    "def h_Q2(z,d,w):\n",
    "    return Dp_ro*(1+z)**4 + Dp_mo*(1+z)**3 + Dp_deo*(d/(d+3*w))*(1-(1+z)**(d+3*w))*(1+z)**3 + Dp_deo*(1+z)**(d+3*w+3)+Dp_k*(1+z)**2"
   ]
  },
  {
   "cell_type": "code",
   "execution_count": null,
   "id": "visible-federation",
   "metadata": {},
   "outputs": [],
   "source": []
  },
  {
   "cell_type": "markdown",
   "id": "dirty-australian",
   "metadata": {},
   "source": [
    "# Deceleration parameter"
   ]
  },
  {
   "cell_type": "code",
   "execution_count": 43,
   "id": "sapphire-loading",
   "metadata": {},
   "outputs": [],
   "source": [
    "def q_Q1(z,d,w):\n",
    "    return 0.5*(1/h(z))**2 *(2*Dp_ro*(1+z)**4+Dp_bmo*(1+z)**3+ Dp_dmo*(1+z)**(3-d)+(1+3*w)*(Dp_deo*(1+z)**(3+3*w)\n",
    "                    +Dp_dmo*(d/(d+3*w))*((1+z)**(3*w) - (1+z)**(-d))*(1+z)**3))\n",
    "\n"
   ]
  },
  {
   "cell_type": "code",
   "execution_count": null,
   "id": "superb-nudist",
   "metadata": {},
   "outputs": [],
   "source": []
  },
  {
   "cell_type": "code",
   "execution_count": 44,
   "id": "seasonal-promise",
   "metadata": {},
   "outputs": [],
   "source": [
    "def q_Q2(z,d,w):\n",
    "    return 0.5*(1/h(z))**2 *(2*Dp_ro*(1+z)**4+Dp_bmo*(1+z)**3+ Dp_dmo*(1+z)**3 \n",
    "                                 + Dp_deo*(d/(d+3*w))*(1-(1+z)**(d+3*w))*(1+z)**3 +(1+3*w)*Dp_deo*(1+z)**(d+3*w+3))"
   ]
  },
  {
   "cell_type": "code",
   "execution_count": null,
   "id": "laden-short",
   "metadata": {},
   "outputs": [],
   "source": []
  },
  {
   "cell_type": "code",
   "execution_count": 45,
   "id": "blind-opinion",
   "metadata": {},
   "outputs": [],
   "source": [
    "# cosmological parameters"
   ]
  },
  {
   "cell_type": "code",
   "execution_count": 46,
   "id": "announced-festival",
   "metadata": {},
   "outputs": [
    {
     "name": "stdout",
     "output_type": "stream",
     "text": [
      "0.008951000000000042\n"
     ]
    }
   ],
   "source": [
    "Dp_mo = 0.307\n",
    "\n",
    "\n",
    "Dp_bmo = 0.055\n",
    "Dp_dmo = 0.213\n",
    "\n",
    "Dp_deo = 0.684\n",
    "Dp_ro = 4.9*10**(-5)\n",
    "Dp_k = 1 - Dp_ro - Dp_mo - Dp_deo\n",
    "print(Dp_k)\n",
    "\n",
    "# iDEDM regime\n",
    "d_Q1p = 0.26\n",
    "d_Q2p = 0.25\n",
    "\n",
    "# Labda CDM\n",
    "d_LCDM = 0 \n",
    "w_LCDM = -1\n",
    "\n",
    "# iDMDE regime\n",
    "d_Q1n = -0.26\n",
    "d_Q2n = -0.25\n",
    "\n",
    "\n",
    "# quintessence regime\n",
    "w_Q1q = -0.949\n",
    "w_Q2q = -0.948\n",
    "\n",
    "# phantom regime\n",
    "w_Q1ph = -1.15\n",
    "w_Q2ph = -1.16\n",
    "\n",
    "\n"
   ]
  },
  {
   "cell_type": "code",
   "execution_count": 47,
   "id": "amateur-bradley",
   "metadata": {},
   "outputs": [
    {
     "data": {
      "text/plain": [
       "(array([9.61000000e-01, 9.69302573e-01, 9.77769404e-01, ...,\n",
       "        3.17980003e+08, 3.17990024e+08, 3.18000046e+08]),\n",
       " array([1.00000000e+00, 1.00948431e+00, 1.01915652e+00, ...,\n",
       "        3.57093603e+08, 3.57104797e+08, 3.57115991e+08]),\n",
       " array([1.00000000e+00, 1.00473096e+00, 1.00953282e+00, ...,\n",
       "        1.88969205e+04, 1.88972166e+04, 1.88975128e+04]))"
      ]
     },
     "execution_count": 47,
     "metadata": {},
     "output_type": "execute_result"
    }
   ],
   "source": [
    "h_Q1(z1,d_LCDM,w_LCDM),h_Q2(z1,d_LCDM,w_LCDM),h(z1)"
   ]
  },
  {
   "cell_type": "code",
   "execution_count": 48,
   "id": "fossil-society",
   "metadata": {},
   "outputs": [
    {
     "data": {
      "text/plain": [
       "(array([-0.549951  , -0.54075994, -0.53156221, ...,  0.5140969 ,\n",
       "         0.51409757,  0.51409824]),\n",
       " array([-0.549951  , -0.54075994, -0.53156221, ...,  0.5140969 ,\n",
       "         0.51409757,  0.51409824]),\n",
       " array([-0.54012023, -0.53045388, -0.52077486, ...,  0.56889207,\n",
       "         0.56889266,  0.56889326]))"
      ]
     },
     "execution_count": 48,
     "metadata": {},
     "output_type": "execute_result"
    }
   ],
   "source": [
    "q_Q1(z1,d_LCDM,w_LCDM),q_Q2(z1,d_LCDM,w_LCDM),q(z1)"
   ]
  },
  {
   "cell_type": "code",
   "execution_count": null,
   "id": "aboriginal-phoenix",
   "metadata": {},
   "outputs": [],
   "source": []
  },
  {
   "cell_type": "code",
   "execution_count": 49,
   "id": "dense-reward",
   "metadata": {},
   "outputs": [],
   "source": [
    "z1 = np.arange(0.0, 3000, 0.01)"
   ]
  },
  {
   "cell_type": "markdown",
   "id": "threatened-latex",
   "metadata": {},
   "source": [
    "# Plot for H(z) Quintessence"
   ]
  },
  {
   "cell_type": "code",
   "execution_count": 279,
   "id": "accessible-transsexual",
   "metadata": {},
   "outputs": [
    {
     "data": {
      "image/png": "[encoded data removed]",
      "text/plain": [
       "<Figure size 432x288 with 1 Axes>"
      ]
     },
     "metadata": {
      "needs_background": "light"
     },
     "output_type": "display_data"
    }
   ],
   "source": [
    "plt.figure()\n",
    "\n",
    "plt.title('Hubble parameter h(z) vs redshift(z)(Quintessence)')\n",
    "\n",
    "plt.xlabel('redshift z')\n",
    "plt.ylabel('hubble parameter h(z)')\n",
    "\n",
    "\n",
    "\n",
    "plt.grid(True)\n",
    "plt.plot(z1, h_Q1(z1,d_LCDM,w_LCDM), 'y--')\n",
    "plt.plot(z1, h_Q2(z1,d_LCDM,w_LCDM), 'c--')\n",
    "\n",
    "plt.plot(z1, h_Q1(z1,d_Q2n,w_Q2q), 'b--')\n",
    "plt.plot(z1, h_Q2(z1,d_Q1n,w_Q1q), 'k--')\n",
    "\n",
    "plt.plot(z1, h_Q1(z1,d_Q2p,w_Q2q), 'm--')\n",
    "plt.plot(z1, h_Q2(z1,d_Q1p,w_Q1q), 'g--')\n",
    "plt.plot(z1, h(z1)**(1.962), 'r')\n",
    "\n",
    "plt.xlim(-0.5,5.0)\n",
    "plt.ylim(0.0,50.0)\n",
    "\n",
    "plt.legend(['Q1:$\\delta = 0$','Q2:$\\delta = 0$','Q1:$\\delta < 0$', 'Q2:$\\delta < 0$','Q1:$\\delta > 0$','Q2:$\\delta > 0$','$\\Lambda$CDM'])\n",
    "plt.show()"
   ]
  },
  {
   "cell_type": "code",
   "execution_count": null,
   "id": "naval-france",
   "metadata": {},
   "outputs": [],
   "source": []
  },
  {
   "cell_type": "markdown",
   "id": "scientific-jurisdiction",
   "metadata": {},
   "source": [
    "# Plot for H(z) vs z Phantom"
   ]
  },
  {
   "cell_type": "code",
   "execution_count": null,
   "id": "nervous-feeding",
   "metadata": {},
   "outputs": [],
   "source": []
  },
  {
   "cell_type": "code",
   "execution_count": 281,
   "id": "improving-crossing",
   "metadata": {},
   "outputs": [
    {
     "data": {
      "image/png": "[encoded data removed]",
      "text/plain": [
       "<Figure size 432x288 with 1 Axes>"
      ]
     },
     "metadata": {
      "needs_background": "light"
     },
     "output_type": "display_data"
    }
   ],
   "source": [
    "plt.figure()\n",
    "\n",
    "plt.title('Hubble parameter h(z) vs redshift(z)(Phantom)')\n",
    "\n",
    "plt.xlabel('redshift z')\n",
    "plt.ylabel('hubble parameter h(z)')\n",
    "\n",
    "\n",
    "\n",
    "plt.grid(True)\n",
    "plt.plot(z1, h_Q1(z1,d_LCDM,w_LCDM), 'y--')\n",
    "plt.plot(z1, h_Q2(z1,d_LCDM,w_LCDM), 'c--')\n",
    "\n",
    "plt.plot(z1, h_Q1(z1,d_Q2n,w_Q2ph), 'b--')\n",
    "plt.plot(z1, h_Q2(z1,d_Q1n,w_Q1ph), 'k--')\n",
    "\n",
    "plt.plot(z1, h_Q1(z1,d_Q2p,w_Q2ph), 'm--')\n",
    "plt.plot(z1, h_Q2(z1,d_Q1p,w_Q1ph), 'g--')\n",
    "plt.plot(z1, h(z1)**(1.962), 'r')\n",
    "\n",
    "plt.xlim(-0.5,5.0)\n",
    "plt.ylim(0.0,50.0)\n",
    "\n",
    "plt.legend(['Q1:$\\delta = 0$','Q2:$\\delta = 0$','Q1:$\\delta < 0$', 'Q2:$\\delta < 0$','Q1:$\\delta > 0$','Q2:$\\delta > 0$','$\\Lambda$CDM'])\n",
    "plt.show()"
   ]
  },
  {
   "cell_type": "code",
   "execution_count": null,
   "id": "green-medium",
   "metadata": {},
   "outputs": [],
   "source": []
  },
  {
   "cell_type": "code",
   "execution_count": null,
   "id": "front-grace",
   "metadata": {},
   "outputs": [],
   "source": []
  },
  {
   "cell_type": "code",
   "execution_count": null,
   "id": "educational-atlantic",
   "metadata": {},
   "outputs": [],
   "source": []
  },
  {
   "cell_type": "code",
   "execution_count": null,
   "id": "growing-expert",
   "metadata": {},
   "outputs": [],
   "source": []
  },
  {
   "cell_type": "markdown",
   "id": "existing-weight",
   "metadata": {},
   "source": [
    "# Plot for Decelaration parameter q(z) quintessence"
   ]
  },
  {
   "cell_type": "code",
   "execution_count": null,
   "id": "blind-conditions",
   "metadata": {},
   "outputs": [],
   "source": []
  },
  {
   "cell_type": "code",
   "execution_count": 282,
   "id": "radio-provincial",
   "metadata": {},
   "outputs": [
    {
     "name": "stderr",
     "output_type": "stream",
     "text": [
      "<ipython-input-282-962ac534c641>:19: RuntimeWarning: invalid value encountered in true_divide\n",
      "  plt.plot(z2, q(z2), 'b', z2, 0/z2,'b--')\n",
      "<ipython-input-282-962ac534c641>:23: RuntimeWarning: invalid value encountered in true_divide\n",
      "  idx = np.argwhere(np.diff(np.sign(q(z2) - 0/z2))).flatten()\n",
      "<ipython-input-282-962ac534c641>:24: RuntimeWarning: invalid value encountered in true_divide\n",
      "  plt.plot(z2[idx], (0/z2)[idx], 'ko')\n",
      "<ipython-input-282-962ac534c641>:25: RuntimeWarning: invalid value encountered in true_divide\n",
      "  print(z2[idx],(0/z2)[idx])\n"
     ]
    },
    {
     "name": "stdout",
     "output_type": "stream",
     "text": [
      "[0.   0.64] [nan  0.]\n"
     ]
    },
    {
     "data": {
      "image/png": "[encoded data removed]",
      "text/plain": [
       "<Figure size 432x288 with 1 Axes>"
      ]
     },
     "metadata": {
      "needs_background": "light"
     },
     "output_type": "display_data"
    }
   ],
   "source": [
    "plt.figure()\n",
    "\n",
    "plt.title('Deceleration parameter q(z) vs redshift(z) (Quintessence)')\n",
    "\n",
    "plt.xlabel('redshift z')\n",
    "plt.ylabel('Deceleration parameter q(z)')\n",
    "plt.grid(True)\n",
    "\n",
    "\n",
    "plt.plot(z1, q_Q1(z1,d_LCDM,w_LCDM), 'y--')\n",
    "plt.plot(z1, q_Q2(z1,d_LCDM,w_LCDM), 'c--')\n",
    "\n",
    "plt.plot(z1, q_Q1(z1,d_Q2n,w_Q2q), 'r--')\n",
    "plt.plot(z1, q_Q2(z1,d_Q1n,w_Q1q), 'k--')\n",
    "\n",
    "plt.plot(z1, q_Q1(z1,d_Q2p,w_Q2q), 'm--')\n",
    "plt.plot(z1, q_Q2(z1,d_Q1p,w_Q1q), 'g--')\n",
    "\n",
    "plt.plot(z2, q(z2), 'b', z2, 0/z2,'b--')\n",
    "\n",
    "# plotting x crossing\n",
    "\n",
    "idx = np.argwhere(np.diff(np.sign(q(z2) - 0/z2))).flatten()\n",
    "plt.plot(z2[idx], (0/z2)[idx], 'ko')\n",
    "print(z2[idx],(0/z2)[idx])\n",
    "\n",
    "\n",
    "plt.xlim(-3.5,4.0)\n",
    "plt.ylim(-1,1.0)\n",
    "\n",
    "plt.legend(['Q1:$\\delta = 0$','Q2:$\\delta = 0$','Q1:$\\delta < 0$', 'Q2:$\\delta < 0$','Q1:$\\delta > 0$','Q2:$\\delta > 0$','$\\Lambda$CDM','(0.645 , 0)','z-intercept'])\n",
    "plt.show()"
   ]
  },
  {
   "cell_type": "code",
   "execution_count": null,
   "id": "whole-campbell",
   "metadata": {},
   "outputs": [],
   "source": []
  },
  {
   "cell_type": "markdown",
   "id": "solved-kinase",
   "metadata": {},
   "source": [
    "# Plot for q(z) phantom"
   ]
  },
  {
   "cell_type": "code",
   "execution_count": null,
   "id": "fixed-wilson",
   "metadata": {},
   "outputs": [],
   "source": []
  },
  {
   "cell_type": "code",
   "execution_count": 283,
   "id": "greatest-extension",
   "metadata": {},
   "outputs": [
    {
     "name": "stderr",
     "output_type": "stream",
     "text": [
      "<ipython-input-283-80dcf322f179>:19: RuntimeWarning: invalid value encountered in true_divide\n",
      "  plt.plot(z2, q(z2), 'b', z2, 0/z2,'b--')\n",
      "<ipython-input-283-80dcf322f179>:23: RuntimeWarning: invalid value encountered in true_divide\n",
      "  idx = np.argwhere(np.diff(np.sign(q(z2) - 0/z2))).flatten()\n",
      "<ipython-input-283-80dcf322f179>:24: RuntimeWarning: invalid value encountered in true_divide\n",
      "  plt.plot(z2[idx], (0/z2)[idx], 'ko')\n",
      "<ipython-input-283-80dcf322f179>:25: RuntimeWarning: invalid value encountered in true_divide\n",
      "  print(z2[idx],(0/z2)[idx])\n"
     ]
    },
    {
     "name": "stdout",
     "output_type": "stream",
     "text": [
      "[0.   0.64] [nan  0.]\n"
     ]
    },
    {
     "data": {
      "image/png": "[encoded data removed]",
      "text/plain": [
       "<Figure size 432x288 with 1 Axes>"
      ]
     },
     "metadata": {
      "needs_background": "light"
     },
     "output_type": "display_data"
    }
   ],
   "source": [
    "plt.figure()\n",
    "\n",
    "plt.title('Deceleration parameter q(z) vs redshift(z) (Phantom)')\n",
    "\n",
    "plt.xlabel('redshift z')\n",
    "plt.ylabel('Deceleration parameter q(z)')\n",
    "plt.grid(True)\n",
    "\n",
    "\n",
    "plt.plot(z1, q_Q1(z1,d_LCDM,w_LCDM), 'y--')\n",
    "plt.plot(z1, q_Q2(z1,d_LCDM,w_LCDM), 'c--')\n",
    "\n",
    "plt.plot(z1, q_Q1(z1,d_Q2n,w_Q2ph), 'r--')\n",
    "plt.plot(z1, q_Q2(z1,d_Q1n,w_Q1ph), 'k--')\n",
    "\n",
    "plt.plot(z1, q_Q1(z1,d_Q2p,w_Q2ph), 'm--')\n",
    "plt.plot(z1, q_Q2(z1,d_Q1p,w_Q1ph), 'g--')\n",
    "\n",
    "plt.plot(z2, q(z2), 'b', z2, 0/z2,'b--')\n",
    "\n",
    "# plotting x crossing\n",
    "\n",
    "idx = np.argwhere(np.diff(np.sign(q(z2) - 0/z2))).flatten()\n",
    "plt.plot(z2[idx], (0/z2)[idx], 'ko')\n",
    "print(z2[idx],(0/z2)[idx])\n",
    "\n",
    "\n",
    "plt.xlim(-03.5,4.0)\n",
    "plt.ylim(-1,1.0)\n",
    "\n",
    "\n",
    "plt.legend(['Q1:$\\delta = 0$','Q2:$\\delta = 0$','Q1:$\\delta < 0$', 'Q2:$\\delta < 0$','Q1:$\\delta > 0$','Q2:$\\delta > 0$','$\\Lambda$CDM','(0.645 , 0)','z-intercept'])\n",
    "plt.show()"
   ]
  },
  {
   "cell_type": "code",
   "execution_count": null,
   "id": "inclusive-preview",
   "metadata": {},
   "outputs": [],
   "source": []
  },
  {
   "cell_type": "code",
   "execution_count": null,
   "id": "special-nightlife",
   "metadata": {},
   "outputs": [],
   "source": []
  },
  {
   "cell_type": "code",
   "execution_count": null,
   "id": "forced-exchange",
   "metadata": {},
   "outputs": [],
   "source": []
  },
  {
   "cell_type": "code",
   "execution_count": null,
   "id": "retained-boost",
   "metadata": {},
   "outputs": [],
   "source": []
  },
  {
   "cell_type": "markdown",
   "id": "russian-outline",
   "metadata": {},
   "source": [
    "# Will do later"
   ]
  },
  {
   "cell_type": "markdown",
   "id": "demonstrated-burton",
   "metadata": {},
   "source": [
    "# Scale factor for dark couplings "
   ]
  },
  {
   "cell_type": "code",
   "execution_count": null,
   "id": "recognized-gallery",
   "metadata": {},
   "outputs": [],
   "source": []
  },
  {
   "cell_type": "code",
   "execution_count": null,
   "id": "cordless-mentor",
   "metadata": {},
   "outputs": [],
   "source": []
  },
  {
   "cell_type": "code",
   "execution_count": null,
   "id": "affected-smoke",
   "metadata": {},
   "outputs": [],
   "source": []
  },
  {
   "cell_type": "markdown",
   "id": "random-distance",
   "metadata": {},
   "source": [
    "# Functions"
   ]
  },
  {
   "cell_type": "markdown",
   "id": "competitive-newport",
   "metadata": {},
   "source": [
    "# Model 1 : Q1 dark matter  density "
   ]
  },
  {
   "cell_type": "code",
   "execution_count": null,
   "id": "collect-sending",
   "metadata": {},
   "outputs": [],
   "source": []
  },
  {
   "cell_type": "code",
   "execution_count": 175,
   "id": "planned-civilian",
   "metadata": {},
   "outputs": [],
   "source": [
    "def a_Q1dm(t,d):\n",
    "    a1 = -0.5*(d-3)**(-2/(d-3))\n",
    "    return a1*t**(-2/(d-3))"
   ]
  },
  {
   "cell_type": "code",
   "execution_count": null,
   "id": "naked-chamber",
   "metadata": {},
   "outputs": [],
   "source": []
  },
  {
   "cell_type": "markdown",
   "id": "incident-robert",
   "metadata": {},
   "source": [
    "# Model 1 : Q1 dark energy  density "
   ]
  },
  {
   "cell_type": "code",
   "execution_count": null,
   "id": "agricultural-sixth",
   "metadata": {},
   "outputs": [],
   "source": []
  },
  {
   "cell_type": "code",
   "execution_count": 55,
   "id": "configured-bryan",
   "metadata": {},
   "outputs": [],
   "source": [
    "def a_Q1de(t,d,w):\n",
    "    return"
   ]
  },
  {
   "cell_type": "code",
   "execution_count": null,
   "id": "handmade-syndicate",
   "metadata": {},
   "outputs": [],
   "source": []
  },
  {
   "cell_type": "markdown",
   "id": "unusual-membrane",
   "metadata": {},
   "source": [
    "# Model 2 : Q2 Dark matter density "
   ]
  },
  {
   "cell_type": "code",
   "execution_count": null,
   "id": "executive-causing",
   "metadata": {},
   "outputs": [],
   "source": []
  },
  {
   "cell_type": "code",
   "execution_count": 56,
   "id": "employed-trademark",
   "metadata": {},
   "outputs": [],
   "source": [
    "def a_Q2dm(t,d,w):\n",
    "    return"
   ]
  },
  {
   "cell_type": "code",
   "execution_count": null,
   "id": "progressive-factor",
   "metadata": {},
   "outputs": [],
   "source": []
  },
  {
   "cell_type": "markdown",
   "id": "organic-cream",
   "metadata": {},
   "source": [
    "# Model 2 : Q2 Dark energy density "
   ]
  },
  {
   "cell_type": "code",
   "execution_count": null,
   "id": "neutral-understanding",
   "metadata": {},
   "outputs": [],
   "source": []
  },
  {
   "cell_type": "code",
   "execution_count": 267,
   "id": "mechanical-mirror",
   "metadata": {},
   "outputs": [],
   "source": [
    "def a_Q2de(t,d,w):\n",
    "    a2 = (-0.5*(-d+-3*w+-3))**(-2/(-d+-3*w+-3))\n",
    "    return -a2*(t**(2/(d+3*w+3)))"
   ]
  },
  {
   "cell_type": "code",
   "execution_count": null,
   "id": "junior-studio",
   "metadata": {},
   "outputs": [],
   "source": []
  },
  {
   "cell_type": "code",
   "execution_count": null,
   "id": "earned-writer",
   "metadata": {},
   "outputs": [],
   "source": []
  },
  {
   "cell_type": "code",
   "execution_count": null,
   "id": "consistent-bikini",
   "metadata": {},
   "outputs": [],
   "source": []
  },
  {
   "cell_type": "markdown",
   "id": "political-paragraph",
   "metadata": {},
   "source": [
    "# Plotting for a(t) vs t quintassence"
   ]
  },
  {
   "cell_type": "code",
   "execution_count": 268,
   "id": "congressional-timer",
   "metadata": {},
   "outputs": [
    {
     "name": "stdout",
     "output_type": "stream",
     "text": [
      "0.008951000000000042\n"
     ]
    }
   ],
   "source": [
    "Dp_mo = 0.307\n",
    "\n",
    "\n",
    "Dp_bmo = 0.055\n",
    "Dp_dmo = 0.213\n",
    "\n",
    "Dp_deo = 0.684\n",
    "Dp_ro = 4.9*10**(-5)\n",
    "Dp_k = 1 - Dp_ro - Dp_mo - Dp_deo\n",
    "print(Dp_k)\n",
    "\n",
    "\n",
    "# iDEDM regime\n",
    "d_Q1p = 0.26\n",
    "d_Q2p = 0.25\n",
    "\n",
    "# Labda CDM\n",
    "d_LCDM = 0 \n",
    "w_LCDM = -1.0000011\n",
    "\n",
    "# iDMDE regime\n",
    "d_Q1n = -0.26\n",
    "d_Q2n = -0.25\n",
    "\n",
    "\n",
    "# quintessence regime\n",
    "w_Q1q = -0.949\n",
    "w_Q2q = -0.948\n",
    "\n",
    "# phantom regime\n",
    "w_Q1ph = -1.15\n",
    "w_Q2ph = -1.16"
   ]
  },
  {
   "cell_type": "code",
   "execution_count": null,
   "id": "searching-technique",
   "metadata": {},
   "outputs": [],
   "source": []
  },
  {
   "cell_type": "markdown",
   "id": "happy-muslim",
   "metadata": {},
   "source": [
    "# Plotting a(t) vs t"
   ]
  },
  {
   "cell_type": "markdown",
   "id": "successful-navigator",
   "metadata": {},
   "source": [
    "# Q2de"
   ]
  },
  {
   "cell_type": "code",
   "execution_count": 284,
   "id": "thirty-offset",
   "metadata": {},
   "outputs": [
    {
     "name": "stderr",
     "output_type": "stream",
     "text": [
      "<ipython-input-267-074b3f9dcfa1>:3: RuntimeWarning: divide by zero encountered in power\n",
      "  return -a2*(t**(2/(d+3*w+3)))\n",
      "/usr/lib/python3/dist-packages/numpy/core/_asarray.py:83: ComplexWarning: Casting complex values to real discards the imaginary part\n",
      "  return array(a, dtype, copy=False, order=order)\n",
      "<ipython-input-267-074b3f9dcfa1>:3: RuntimeWarning: divide by zero encountered in power\n",
      "  return -a2*(t**(2/(d+3*w+3)))\n",
      "/usr/lib/python3/dist-packages/numpy/core/_asarray.py:83: ComplexWarning: Casting complex values to real discards the imaginary part\n",
      "  return array(a, dtype, copy=False, order=order)\n",
      "<ipython-input-267-074b3f9dcfa1>:3: RuntimeWarning: divide by zero encountered in power\n",
      "  return -a2*(t**(2/(d+3*w+3)))\n",
      "/usr/lib/python3/dist-packages/numpy/core/_asarray.py:83: ComplexWarning: Casting complex values to real discards the imaginary part\n",
      "  return array(a, dtype, copy=False, order=order)\n",
      "<ipython-input-267-074b3f9dcfa1>:3: RuntimeWarning: divide by zero encountered in power\n",
      "  return -a2*(t**(2/(d+3*w+3)))\n",
      "/usr/lib/python3/dist-packages/numpy/core/_asarray.py:83: ComplexWarning: Casting complex values to real discards the imaginary part\n",
      "  return array(a, dtype, copy=False, order=order)\n",
      "<ipython-input-267-074b3f9dcfa1>:3: RuntimeWarning: divide by zero encountered in power\n",
      "  return -a2*(t**(2/(d+3*w+3)))\n",
      "/usr/lib/python3/dist-packages/numpy/core/_asarray.py:83: ComplexWarning: Casting complex values to real discards the imaginary part\n",
      "  return array(a, dtype, copy=False, order=order)\n",
      "<ipython-input-267-074b3f9dcfa1>:3: RuntimeWarning: divide by zero encountered in power\n",
      "  return -a2*(t**(2/(d+3*w+3)))\n",
      "/usr/lib/python3/dist-packages/numpy/core/_asarray.py:83: ComplexWarning: Casting complex values to real discards the imaginary part\n",
      "  return array(a, dtype, copy=False, order=order)\n"
     ]
    },
    {
     "data": {
      "image/png": "[encoded data removed]",
      "text/plain": [
       "<Figure size 432x288 with 1 Axes>"
      ]
     },
     "metadata": {
      "needs_background": "light"
     },
     "output_type": "display_data"
    }
   ],
   "source": [
    "# plot of a(t) vs t\n",
    "\n",
    "\n",
    "#plt.plot(t_eta(Dp_open, eeta), a_eta(Dp_open, eeta), 'b--', t_theta(Dp_closed, thetaa), a_theta(Dp_closed,\n",
    "                                                                                                           \n",
    "   # thetaa), 'r--', t1 ,mat_flat(t1), 'g--')\n",
    "#plt.plot(t1 ,a_Q2de(t1,d_Q1n,w_Q1q), 'b',t1 ,a_Q2de(t1,d_Q1n,w_Q1q), 'g')\n",
    "\n",
    "plt.title('Analytical solutions of a(t) vs time(t)')\n",
    "\n",
    "plt.plot(t1*0.107 ,mat_flat(t1)**4.5, 'g',label='$\\Lambda$CDM')   #yes  1\n",
    "#plt.plot(t1*0.107 ,mat_flat(t1)**7.3, 'g',label='$\\Lambda$CDM')   #yes  1\n",
    "\n",
    "plt.plot(t1, a_Q2de(t1,d_Q1p,w_Q1q), 'r--',label='Q1:$\\delta$ > 0, -1 < $\\omega$')  # 2\n",
    "plt.plot(t1, a_Q2de(t1,d_Q2p,w_Q2q), 'b--',label='Q2:$\\delta$ > 0, -1 < $\\omega$')   #3\n",
    "plt.plot(t1, a_Q2de(t1,d_Q1n,w_Q1q), 'y--',label='Q1:$\\delta$ < 0, -1 < $\\omega$')  #4\n",
    "plt.plot(t1, a_Q2de(t1,d_Q2n,w_Q2q), 'c--',label='Q2:$\\delta$ < 0, -1 < $\\omega$')  #5\n",
    "\n",
    "\n",
    "#imp\n",
    "plt.plot(t1, a_Q2de(t1,d_Q1p,w_Q1ph), 'm--',label='Q1:$\\delta$ > 0, $\\omega$ < -1')  #6\n",
    "plt.plot(t1, a_Q2de(t1,d_Q2p,w_Q2ph), 'g--',label='Q2:$\\delta$ > 0, $\\omega$ < -1')  #7\n",
    "plt.plot(t1, a_Q2de(t1,d_Q1n,w_Q1ph), 'k--',label='Q1:$\\delta$ < 0, $\\omega$ < -1')  #8\n",
    "plt.plot(t1, a_Q2de(t1,d_Q2n,w_Q2ph), 'y--',label='Q2:$\\delta$ < 0, $\\omega$ < -1')   #9\n",
    "\n",
    "\n",
    "#plt.plot(t1, a_Q2de(t1,d_LCDM,w_Q2ph), 'y--',label='$\\delta$ = 0, $\\omega$ < -1')\n",
    "#plt.plot(t1, a_Q2de(t1,d_LCDM,w_Q2q), 'g',label='$\\delta$ = 0, -1 < $\\omega$ < -1/3')\n",
    "#plt.plot(t1, a_Q2de(t1,d_LCDM,w_Q1q), 'c',label='$\\delta$ > 0, $\\omega$ < -1')\n",
    "\n",
    "\n",
    "#plt.plot(t1, a_Q2de(t1,d_LCDM,w_LCDM), 'm--',label='$\\delta$ = 0, $\\omega$ = -1') # yes\n",
    "\n",
    "\n",
    "#new\n",
    "#plt.xlim(-7.00,7.5)\n",
    "#plt.ylim(-0.05,0.5)\n",
    "\n",
    "\n",
    "#original\n",
    "plt.xlim(-0.01,2.5)\n",
    "plt.ylim(-0.1,5.5)\n",
    "\n",
    "\n",
    "plt.xlabel('time(t)')\n",
    "plt.ylabel('scale factor a(t)')\n",
    "\n",
    "\n",
    "#plt.legend(['$\\delta$ > 0 ','$\\delta$ > 1','$\\delta$ = 1'])\n",
    "#plt.legend(bbox_to_anchor=(1.05, 1.0), loc='best')\n",
    "#plt.legend(loc='best')\n",
    "\n",
    "plt.grid(True)\n",
    "plt.show()"
   ]
  },
  {
   "cell_type": "code",
   "execution_count": null,
   "id": "resistant-focus",
   "metadata": {},
   "outputs": [],
   "source": []
  },
  {
   "cell_type": "code",
   "execution_count": null,
   "id": "worldwide-filling",
   "metadata": {},
   "outputs": [],
   "source": []
  },
  {
   "cell_type": "markdown",
   "id": "heavy-panama",
   "metadata": {},
   "source": []
  },
  {
   "cell_type": "markdown",
   "id": "technical-corporation",
   "metadata": {},
   "source": [
    "# Q1 dm"
   ]
  },
  {
   "cell_type": "code",
   "execution_count": 230,
   "id": "bored-midnight",
   "metadata": {},
   "outputs": [
    {
     "name": "stderr",
     "output_type": "stream",
     "text": [
      "/usr/lib/python3/dist-packages/numpy/core/_asarray.py:83: ComplexWarning: Casting complex values to real discards the imaginary part\n",
      "  return array(a, dtype, copy=False, order=order)\n",
      "/usr/lib/python3/dist-packages/numpy/core/_asarray.py:83: ComplexWarning: Casting complex values to real discards the imaginary part\n",
      "  return array(a, dtype, copy=False, order=order)\n",
      "/usr/lib/python3/dist-packages/numpy/core/_asarray.py:83: ComplexWarning: Casting complex values to real discards the imaginary part\n",
      "  return array(a, dtype, copy=False, order=order)\n",
      "/usr/lib/python3/dist-packages/numpy/core/_asarray.py:83: ComplexWarning: Casting complex values to real discards the imaginary part\n",
      "  return array(a, dtype, copy=False, order=order)\n",
      "/usr/lib/python3/dist-packages/numpy/core/_asarray.py:83: ComplexWarning: Casting complex values to real discards the imaginary part\n",
      "  return array(a, dtype, copy=False, order=order)\n"
     ]
    },
    {
     "data": {
      "image/png": "[encoded data removed]",
      "text/plain": [
       "<Figure size 432x288 with 1 Axes>"
      ]
     },
     "metadata": {
      "needs_background": "light"
     },
     "output_type": "display_data"
    }
   ],
   "source": [
    "# plot of a(t) vs t\n",
    "\n",
    "\n",
    "#plt.plot(t_eta(Dp_open, eeta), a_eta(Dp_open, eeta), 'b--', t_theta(Dp_closed, thetaa), a_theta(Dp_closed,\n",
    "                                                                                                           \n",
    "   # thetaa), 'r--', t1 ,mat_flat(t1), 'g--')\n",
    "#plt.plot(t1 ,a_Q2de(t1,d_Q1n,w_Q1q), 'b',t1 ,a_Q2de(t1,d_Q1n,w_Q1q), 'g')\n",
    "plt.title('Analytical solutions of a(t) vs time(t)')\n",
    "\n",
    "#plt.plot(t1 ,mat_flat(t1)*4.59, 'g',label='$\\Lambda$CDM') #1\n",
    "plt.plot(t1 ,mat_flat(t1)*2.257, 'r',label='$\\Lambda$CDM') #1\n",
    "\n",
    "\n",
    "plt.plot(t1, a_Q1dm(t1,d_Q1p), 'g--',label='Q1: $\\delta > 0$') # 2\n",
    "plt.plot(t1, a_Q1dm(t1,d_Q2p), 'm--',label='Q2:$\\delta > 0$')  #3\n",
    "plt.plot(t1, a_Q1dm(t1,d_Q1n), 'k--',label='Q1:$\\delta < 0$')     #4\n",
    "plt.plot(t1, a_Q1dm(t1,d_Q2n), 'c--',label='Q2:$\\delta < 0$')   #5\n",
    "\n",
    "\n",
    "\n",
    "#plt.plot(t1, a_Q1dm(t1,d_Q1p), 'k--',label='Q1: $\\delta > 0$')\n",
    "#plt.plot(t1, a_Q1dm(t1,d_Q2p), 'r--',label='Q2: $\\delta > 0$')\n",
    "#plt.plot(t1, a_Q1dm(t1,d_Q1n), 'b',label='Q1:$\\delta < 0$')\n",
    "#plt.plot(t1, a_Q1dm(t1,d_Q2n), 'y',label='Q1: $\\delta < 0$')\n",
    "plt.plot(t1, a_Q1dm(t1,d_LCDM), 'y--',label='$\\delta = 0$') #6\n",
    "#plt.plot(t1, a_Q1dm(t1,d_LCDM), 'y')\n",
    "\n",
    "\n",
    "\n",
    "\n",
    "\n",
    "#original\n",
    "#plt.xlim(-2.0,20.21)\n",
    "#plt.ylim(-2.1,10.5)\n",
    "\n",
    "\n",
    "#zoom in\n",
    "plt.xlim(2.5,4.50)\n",
    "plt.ylim(0.70,1.60)\n",
    "\n",
    "\n",
    "plt.xlabel('time(t)')\n",
    "plt.ylabel('scale factor a(t)')\n",
    "\n",
    "\n",
    "#plt.legend(['$\\Lambda$CDM','$\\delta$ < 0','$\\delta$ > 0','$\\delta$ = 0'])\n",
    "#plt.legend(bbox_to_anchor=(1.05, 1.0), loc='upper left')\n",
    "plt.legend(loc='best')\n",
    "\n",
    "plt.grid(True)\n",
    "plt.show()                                              "
   ]
  },
  {
   "cell_type": "code",
   "execution_count": null,
   "id": "unique-playing",
   "metadata": {},
   "outputs": [],
   "source": []
  },
  {
   "cell_type": "markdown",
   "id": "invisible-routine",
   "metadata": {},
   "source": [
    "# Q2dm"
   ]
  },
  {
   "cell_type": "code",
   "execution_count": 61,
   "id": "accessory-rescue",
   "metadata": {},
   "outputs": [
    {
     "data": {
      "image/png": "[encoded data removed]",
      "text/plain": [
       "<Figure size 432x288 with 1 Axes>"
      ]
     },
     "metadata": {
      "needs_background": "light"
     },
     "output_type": "display_data"
    }
   ],
   "source": [
    "# plot of a(t) vs t\n",
    "\n",
    "\n",
    "#plt.plot(t_eta(Dp_open, eeta), a_eta(Dp_open, eeta), 'b--', t_theta(Dp_closed, thetaa), a_theta(Dp_closed,\n",
    "                                                                                                           \n",
    "   # thetaa), 'r--', t1 ,mat_flat(t1), 'g--')\n",
    "#plt.plot(t1 ,a_Q2de(t1,d_Q1n,w_Q1q), 'b',t1 ,a_Q2de(t1,d_Q1n,w_Q1q), 'g')\n",
    "\n",
    "\n",
    "\n",
    "plt.plot(t1, a_Q2de(t1,d_Q1p,w_Q1q), 'c',label='$\\delta < 0$')     #yes\n",
    "plt.plot(t1, a_Q2de(t1,d_Q2p,w_Q2q), 'b--')     #yes\n",
    "#plt.plot(t1, a_Q2de(t1,d_Q1n,w_Q1q), 'y')\n",
    "#plt.plot(t1, a_Q2de(t1,d_Q2n,w_Q2q), 'b--')\n",
    "\n",
    "\n",
    "\n",
    "#plt.plot(t1, a_Q2de(t1,d_Q1p,w_Q1ph), 'r--')\n",
    "#plt.plot(t1, a_Q2de(t1,d_Q2p,w_Q2ph), 'y--')\n",
    "#plt.plot(t1, a_Q2de(t1,d_Q1n,w_Q1ph), 'b--')\n",
    "#plt.plot(t1, a_Q2de(t1,d_Q2n,w_Q2ph), 'y')\n",
    "#plt.plot(t1, a_Q2de(t1,d_LCDM,w_Q2ph), 'y--')\n",
    "plt.plot(t1, a_Q2de(t1,d_LCDM,w_Q2q), 'g')      #yes\n",
    "\n",
    "plt.plot(t1*0.107 ,mat_flat(t1)**7.3, 'r--')   #yes\n",
    "\n",
    "\n",
    "\n",
    "\n",
    "\n",
    "plt.xlim(-0.01,2.5)\n",
    "plt.ylim(-0.1,5.5)\n",
    "\n",
    "plt.xlabel('time t (Gyr)')\n",
    "plt.ylabel('scale factor a(t)')\n",
    "\n",
    "\n",
    "plt.legend(['Dp_o < 1','Dp_o > 1','Dp_o = 1','$\\Lambda$CDM'])\n",
    "\n",
    "plt.grid(True)\n",
    "plt.show()"
   ]
  },
  {
   "cell_type": "code",
   "execution_count": null,
   "id": "exact-celtic",
   "metadata": {},
   "outputs": [],
   "source": []
  },
  {
   "cell_type": "code",
   "execution_count": null,
   "id": "responsible-lightweight",
   "metadata": {},
   "outputs": [],
   "source": []
  },
  {
   "cell_type": "markdown",
   "id": "neural-advocacy",
   "metadata": {},
   "source": [
    "# Q1 de"
   ]
  },
  {
   "cell_type": "code",
   "execution_count": 62,
   "id": "fifty-commodity",
   "metadata": {},
   "outputs": [
    {
     "name": "stderr",
     "output_type": "stream",
     "text": [
      "<ipython-input-57-f4a03143f7bc>:3: RuntimeWarning: divide by zero encountered in power\n",
      "  return a0*(t**(2/(d+3*w+3)))\n",
      "<ipython-input-57-f4a03143f7bc>:3: RuntimeWarning: divide by zero encountered in power\n",
      "  return a0*(t**(2/(d+3*w+3)))\n",
      "<ipython-input-57-f4a03143f7bc>:3: RuntimeWarning: divide by zero encountered in power\n",
      "  return a0*(t**(2/(d+3*w+3)))\n",
      "<ipython-input-57-f4a03143f7bc>:3: RuntimeWarning: divide by zero encountered in power\n",
      "  return a0*(t**(2/(d+3*w+3)))\n",
      "<ipython-input-57-f4a03143f7bc>:3: RuntimeWarning: divide by zero encountered in power\n",
      "  return a0*(t**(2/(d+3*w+3)))\n",
      "<ipython-input-57-f4a03143f7bc>:3: RuntimeWarning: divide by zero encountered in power\n",
      "  return a0*(t**(2/(d+3*w+3)))\n",
      "<ipython-input-57-f4a03143f7bc>:3: RuntimeWarning: divide by zero encountered in power\n",
      "  return a0*(t**(2/(d+3*w+3)))\n"
     ]
    },
    {
     "data": {
      "image/png": "[encoded data removed]",
      "text/plain": [
       "<Figure size 432x288 with 1 Axes>"
      ]
     },
     "metadata": {
      "needs_background": "light"
     },
     "output_type": "display_data"
    }
   ],
   "source": [
    "# plot of a(t) vs t\n",
    "\n",
    "\n",
    "#plt.plot(t_eta(Dp_open, eeta), a_eta(Dp_open, eeta), 'b--', t_theta(Dp_closed, thetaa), a_theta(Dp_closed,\n",
    "                                                                                                           \n",
    "   # thetaa), 'r--', t1 ,mat_flat(t1), 'g--')\n",
    "#plt.plot(t1 ,a_Q2de(t1,d_Q1n,w_Q1q), 'b',t1 ,a_Q2de(t1,d_Q1n,w_Q1q), 'g')\n",
    "\n",
    "\n",
    "\n",
    "plt.plot(t1, a_Q2de(t1,d_Q1p,w_Q1q), 'r')\n",
    "plt.plot(t1, a_Q2de(t1,d_Q2p,w_Q2q), 'y')\n",
    "plt.plot(t1, a_Q2de(t1,d_Q1n,w_Q1q), 'y')\n",
    "plt.plot(t1, a_Q2de(t1,d_Q2n,w_Q2q), 'b--')\n",
    "\n",
    "\n",
    "\n",
    "plt.plot(t1, a_Q2de(t1,d_Q1p,w_Q1ph), 'r--')\n",
    "plt.plot(t1, a_Q2de(t1,d_Q2p,w_Q2ph), 'y--')\n",
    "plt.plot(t1, a_Q2de(t1,d_Q1n,w_Q1ph), 'b--')\n",
    "plt.plot(t1, a_Q2de(t1,d_Q2n,w_Q2ph), 'y')\n",
    "plt.plot(t1, a_Q2de(t1,d_LCDM,w_Q2ph), 'y--')\n",
    "plt.plot(t1, a_Q2de(t1,d_LCDM,w_Q2q), 'y')\n",
    "\n",
    "\n",
    "\n",
    "\n",
    "\n",
    "\n",
    "plt.xlim(-0.01,2.5)\n",
    "plt.ylim(-0.1,5.5)\n",
    "\n",
    "plt.xlabel('time t (Gyr)')\n",
    "plt.ylabel('scale factor a(t)')\n",
    "\n",
    "\n",
    "#plt.legend(['Dp_o < 1','Dp_o > 1','Dp_o = 1'])\n",
    "\n",
    "plt.grid(True)\n",
    "plt.show()"
   ]
  },
  {
   "cell_type": "code",
   "execution_count": null,
   "id": "promising-norwegian",
   "metadata": {},
   "outputs": [],
   "source": []
  },
  {
   "cell_type": "code",
   "execution_count": null,
   "id": "bottom-paris",
   "metadata": {},
   "outputs": [],
   "source": []
  },
  {
   "cell_type": "code",
   "execution_count": null,
   "id": "incorporated-czech",
   "metadata": {},
   "outputs": [],
   "source": []
  },
  {
   "cell_type": "code",
   "execution_count": null,
   "id": "consistent-patient",
   "metadata": {},
   "outputs": [],
   "source": []
  },
  {
   "cell_type": "code",
   "execution_count": null,
   "id": "convertible-transfer",
   "metadata": {},
   "outputs": [],
   "source": []
  },
  {
   "cell_type": "code",
   "execution_count": null,
   "id": "considered-score",
   "metadata": {},
   "outputs": [],
   "source": []
  },
  {
   "cell_type": "code",
   "execution_count": null,
   "id": "intimate-transsexual",
   "metadata": {},
   "outputs": [],
   "source": []
  },
  {
   "cell_type": "code",
   "execution_count": null,
   "id": "complimentary-triangle",
   "metadata": {},
   "outputs": [],
   "source": []
  },
  {
   "cell_type": "markdown",
   "id": "capital-astrology",
   "metadata": {},
   "source": [
    "# Try finding solutions of the intractable scale factor"
   ]
  },
  {
   "cell_type": "code",
   "execution_count": null,
   "id": "rocky-colony",
   "metadata": {},
   "outputs": [],
   "source": []
  },
  {
   "cell_type": "code",
   "execution_count": null,
   "id": "hazardous-effects",
   "metadata": {},
   "outputs": [],
   "source": [
    "\n"
   ]
  },
  {
   "cell_type": "code",
   "execution_count": null,
   "id": "anonymous-steam",
   "metadata": {},
   "outputs": [],
   "source": []
  },
  {
   "cell_type": "code",
   "execution_count": null,
   "id": "visible-designer",
   "metadata": {},
   "outputs": [],
   "source": []
  }
 ],
 "metadata": {
  "kernelspec": {
   "display_name": "Python 3",
   "language": "python",
   "name": "python3"
  },
  "language_info": {
   "codemirror_mode": {
    "name": "ipython",
    "version": 3
   },
   "file_extension": ".py",
   "mimetype": "text/x-python",
   "name": "python",
   "nbconvert_exporter": "python",
   "pygments_lexer": "ipython3",
   "version": "3.9.2"
  }
 },
 "nbformat": 4,
 "nbformat_minor": 5
}
